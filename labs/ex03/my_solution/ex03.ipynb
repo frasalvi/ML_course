{
 "cells": [
  {
   "cell_type": "code",
   "execution_count": 1,
   "metadata": {
    "tags": []
   },
   "outputs": [],
   "source": [
    "# Useful starting lines\n",
    "%matplotlib inline\n",
    "import numpy as np\n",
    "import numpy.linalg as npl\n",
    "import matplotlib.pyplot as plt\n",
    "%load_ext autoreload\n",
    "%autoreload 2"
   ]
  },
  {
   "cell_type": "code",
   "execution_count": 2,
   "metadata": {},
   "outputs": [],
   "source": [
    "PATH_EX2 = '../../ex02/template'\n",
    "import sys\n",
    "sys.path.insert(1, PATH_EX2)\n",
    "from grid_search import grid_search, generate_w, get_best_parameters\n",
    "from gradient_descent import gradient_descent\n",
    "from costs import compute_loss"
   ]
  },
  {
   "cell_type": "markdown",
   "metadata": {
    "tags": []
   },
   "source": [
    "# 1 Least squares and linear basis functions models\n",
    "## 1.1 Least squares"
   ]
  },
  {
   "cell_type": "code",
   "execution_count": 3,
   "metadata": {
    "tags": []
   },
   "outputs": [],
   "source": [
    "def least_squares(y, tx):\n",
    "    \"\"\"calculate the least squares solution.\"\"\"\n",
    "    # ***************************************************\n",
    "    # INSERT YOUR CODE HERE\n",
    "    # least squares: TODO\n",
    "    # returns mse, and optimal weights\n",
    "    # ***************************************************\n",
    "    w = npl.solve(np.dot(tx.T, tx), np.dot(tx.T, y))\n",
    "    N = y.size\n",
    "    e = y - np.dot(tx, w)\n",
    "    mse = npl.norm(e)**2 / (2*N)\n",
    "    return mse, w"
   ]
  },
  {
   "cell_type": "markdown",
   "metadata": {},
   "source": [
    "### Load the data\n",
    "Here we will reuse the dataset `height_weight_genders.csv` from previous exercise section to check the correctness of your implementation. Please compare it with your previous result."
   ]
  },
  {
   "cell_type": "code",
   "execution_count": 35,
   "metadata": {},
   "outputs": [],
   "source": [
    "from helpers import *\n",
    "def test_your_least_squares():\n",
    "    height, weight, gender = load_data_from_ex02(sub_sample=False, add_outlier=False)\n",
    "    x, mean_x, std_x = standardize(height)\n",
    "    y, tx = build_model_data(x, weight)\n",
    "    # ***************************************************\n",
    "    # INSERT YOUR CODE HERE\n",
    "    # least square or grid search: TODO\n",
    "    # this code should compare the optimal weights obtained \n",
    "    # by least squares vs. grid search\n",
    "    # ***************************************************\n",
    "    loss_least_squares, w_least_squares = least_squares(y, tx)\n",
    "    \n",
    "    w0, w1 = generate_w(100)\n",
    "    loss_grid_search, w0f, w1f = get_best_parameters(w0, w1, grid_search(y, tx, w0, w1))\n",
    "    w_grid_search = [w0f, w1f]\n",
    "\n",
    "    loss_gradient_descent, w_gradient_descent = gradient_descent(y, tx, [0, 0], 50, 0.7)\n",
    "    loss_ridge, w_ridge = ridge_regression(y, tx, 0)\n",
    "    print(w_least_squares, w_grid_search, w_gradient_descent[-1], w_ridge, sep='\\n')\n",
    "    "
   ]
  },
  {
   "cell_type": "markdown",
   "metadata": {},
   "source": [
    "Test it here"
   ]
  },
  {
   "cell_type": "code",
   "execution_count": 36,
   "metadata": {},
   "outputs": [
    {
     "name": "stdout",
     "output_type": "stream",
     "text": [
      "[73.293922   13.47971243]\n",
      "[72.72727272727272, 13.636363636363626]\n",
      "[73.293922   13.47971243]\n",
      "[73.293922   13.47971243]\n"
     ]
    }
   ],
   "source": [
    "test_your_least_squares()"
   ]
  },
  {
   "cell_type": "markdown",
   "metadata": {},
   "source": [
    "## 1.2 Least squares with a linear basis function model\n",
    "Start from this section, we will use the dataset `dataEx3.csv`.\n",
    "\n",
    "### Implement polynomial basis functions"
   ]
  },
  {
   "cell_type": "code",
   "execution_count": 6,
   "metadata": {
    "scrolled": true
   },
   "outputs": [
    {
     "name": "stdout",
     "output_type": "stream",
     "text": [
      "shape of x (50,)\n",
      "shape of y (50,)\n"
     ]
    }
   ],
   "source": [
    "# load dataset\n",
    "x, y = load_data()\n",
    "print(\"shape of x {}\".format(x.shape))\n",
    "print(\"shape of y {}\".format(y.shape))"
   ]
  },
  {
   "cell_type": "code",
   "execution_count": 7,
   "metadata": {
    "tags": []
   },
   "outputs": [],
   "source": [
    "def build_poly(x, degree):\n",
    "    \"\"\"polynomial basis functions for input data x, for j=0 up to j=degree.\"\"\"\n",
    "    # ***************************************************\n",
    "    # INSERT YOUR CODE HERE\n",
    "    # polynomial basis function: TODO\n",
    "    # this function should return the matrix formed\n",
    "    # by applying the polynomial basis to the input data\n",
    "    # ***************************************************\n",
    "    if(len(x.shape) == 1):\n",
    "        x = x[np.newaxis]\n",
    "    X = x.T ** np.arange(degree+1)\n",
    "#     X = np.vander(x, degree+1, increasing=True)\n",
    "    return X    "
   ]
  },
  {
   "cell_type": "markdown",
   "metadata": {},
   "source": [
    "Let us play with polynomial regression. Note that we will use your implemented function `compute_mse`. Please copy and paste your implementation from exercise02."
   ]
  },
  {
   "cell_type": "code",
   "execution_count": 8,
   "metadata": {
    "tags": []
   },
   "outputs": [],
   "source": [
    "from plots import *\n",
    "\n",
    "def polynomial_regression():\n",
    "    \"\"\"Constructing the polynomial basis function expansion of the data,\n",
    "       and then running least squares regression.\"\"\"\n",
    "    # define parameters\n",
    "    degrees = [1, 3, 7, 12]\n",
    "    \n",
    "    # define the structure of the figure\n",
    "    num_row = 2\n",
    "    num_col = 2\n",
    "    f, axs = plt.subplots(num_row, num_col)\n",
    "\n",
    "    for ind, degree in enumerate(degrees):\n",
    "        # ***************************************************\n",
    "        # INSERT YOUR CODE HERE\n",
    "        # form the data to do polynomial regression.: TODO\n",
    "        # ***************************************************\n",
    "        X = build_poly(x, degree)\n",
    "        # ***************************************************\n",
    "        # INSERT YOUR CODE HERE\n",
    "        # least square and calculate RMSE: TODO\n",
    "        # ***************************************************\n",
    "        mse, weights = least_squares(y, X)\n",
    "        rmse = (2*mse)**0.5\n",
    "\n",
    "        print(\"Processing {i}th experiment, degree={d}, rmse={loss}, mse={mse}\".format(\n",
    "              i=ind + 1, d=degree, loss=rmse, mse=mse))\n",
    "        # plot fit\n",
    "        plot_fitted_curve(\n",
    "            y, x, weights, degree, axs[ind // num_col][ind % num_col])\n",
    "    plt.tight_layout()\n",
    "    plt.savefig(\"visualize_polynomial_regression\")\n",
    "    plt.show()"
   ]
  },
  {
   "cell_type": "markdown",
   "metadata": {},
   "source": [
    "Run polynomial regression"
   ]
  },
  {
   "cell_type": "code",
   "execution_count": 9,
   "metadata": {},
   "outputs": [
    {
     "name": "stdout",
     "output_type": "stream",
     "text": [
      "Processing 1th experiment, degree=1, rmse=0.47187607963421874, mse=0.11133351726547978\n",
      "Processing 2th experiment, degree=3, rmse=0.2585827766773748, mse=0.03343252619709054\n",
      "Processing 3th experiment, degree=7, rmse=0.24965870360907552, mse=0.03116473414388211\n",
      "Processing 4th experiment, degree=12, rmse=0.24328247481248677, mse=0.02959318127544413\n"
     ]
    },
    {
     "data": {
      "image/png": "[encoded data removed]",
      "text/plain": [
       "<Figure size 432x288 with 4 Axes>"
      ]
     },
     "metadata": {
      "needs_background": "light"
     },
     "output_type": "display_data"
    }
   ],
   "source": [
    "polynomial_regression()"
   ]
  },
  {
   "cell_type": "markdown",
   "metadata": {},
   "source": [
    "# 2 Evaluating model predication performance\n",
    "\n",
    "\n",
    "Let us show the train and test splits for various polynomial degrees. First of all, please fill in the function `split_data()`"
   ]
  },
  {
   "cell_type": "code",
   "execution_count": 10,
   "metadata": {},
   "outputs": [
    {
     "data": {
      "text/plain": [
       "array([4, 3, 0, 1, 2])"
      ]
     },
     "execution_count": 10,
     "metadata": {},
     "output_type": "execute_result"
    }
   ],
   "source": [
    "a = [1, 2, 3, 4, 5]\n",
    "b = [6, 7, 8, 9, 10]\n",
    "k = np.random.permutation(5)\n",
    "k"
   ]
  },
  {
   "cell_type": "code",
   "execution_count": 11,
   "metadata": {
    "tags": []
   },
   "outputs": [],
   "source": [
    "def split_data(x, y, ratio, seed=1):\n",
    "    \"\"\"\n",
    "    split the dataset based on the split ratio. If ratio is 0.8 \n",
    "    you will have 80% of your data set dedicated to training \n",
    "    and the rest dedicated to testing\n",
    "    \"\"\"\n",
    "    # set seed\n",
    "    np.random.seed(seed)\n",
    "    # ***************************************************\n",
    "    # INSERT YOUR CODE HERE\n",
    "    # split the data based on the given ratio: TODO\n",
    "    # ***************************************************\n",
    "    N = x.size\n",
    "    k = np.random.permutation(N)\n",
    "    x = np.take(x, k)\n",
    "    y = np.take(y, k)\n",
    "    sep = int(N*ratio)\n",
    "    x_train, y_train = x[0:sep], y[0:sep]\n",
    "    x_test, y_test = x[sep:], y[sep:]\n",
    "    return x_train, y_train, x_test, y_test"
   ]
  },
  {
   "cell_type": "markdown",
   "metadata": {},
   "source": [
    "Then, test your `split_data` function below."
   ]
  },
  {
   "cell_type": "code",
   "execution_count": 12,
   "metadata": {
    "tags": []
   },
   "outputs": [],
   "source": [
    "def train_test_split_demo(x, y, degree, ratio, seed):\n",
    "    \"\"\"polynomial regression with different split ratios and different degrees.\"\"\"\n",
    "    # ***************************************************\n",
    "    # INSERT YOUR CODE HERE\n",
    "    # split the data, and return train and test data: TODO\n",
    "    # ***************************************************\n",
    "    x_train, y_train, x_test, y_test = split_data(x, y, ratio, seed)\n",
    "    # ***************************************************\n",
    "    # INSERT YOUR CODE HERE\n",
    "    # form train and test data with polynomial basis function: TODO\n",
    "    # ***************************************************\n",
    "    X_train = build_poly(x_train, degree)\n",
    "    X_test = build_poly(x_test, degree)\n",
    "    # ***************************************************\n",
    "    # INSERT YOUR CODE HERE\n",
    "    # calculate weight through least square: TODO\n",
    "    # ***************************************************\n",
    "    mse, w = least_squares(y_train, X_train)\n",
    "    # ***************************************************\n",
    "    # INSERT YOUR CODE HERE\n",
    "    # calculate RMSE for train and test data,\n",
    "    # and store them in rmse_tr and rmse_te respectively: TODO\n",
    "    # ***************************************************\n",
    "    rmse_tr = (2*mse)**0.5\n",
    "    rmse_te = npl.norm(y_test - X_test @ w, 2) / y_test.size**0.5\n",
    "\n",
    "    print(\"proportion={p}, degree={d}, Training RMSE={tr:.3f}, Testing RMSE={te:.3f}\".format(\n",
    "          p=ratio, d=degree, tr=rmse_tr, te=rmse_te))\n"
   ]
  },
  {
   "cell_type": "code",
   "execution_count": 13,
   "metadata": {
    "tags": []
   },
   "outputs": [
    {
     "name": "stdout",
     "output_type": "stream",
     "text": [
      "proportion=0.9, degree=1, Training RMSE=0.484, Testing RMSE=0.360\n",
      "proportion=0.9, degree=3, Training RMSE=0.270, Testing RMSE=0.113\n",
      "proportion=0.9, degree=7, Training RMSE=0.259, Testing RMSE=0.159\n",
      "proportion=0.9, degree=12, Training RMSE=0.249, Testing RMSE=0.219\n",
      "proportion=0.5, degree=1, Training RMSE=0.444, Testing RMSE=0.508\n",
      "proportion=0.5, degree=3, Training RMSE=0.275, Testing RMSE=0.257\n",
      "proportion=0.5, degree=7, Training RMSE=0.261, Testing RMSE=0.247\n",
      "proportion=0.5, degree=12, Training RMSE=0.217, Testing RMSE=0.879\n",
      "proportion=0.1, degree=1, Training RMSE=0.188, Testing RMSE=0.544\n",
      "proportion=0.1, degree=3, Training RMSE=0.062, Testing RMSE=0.353\n",
      "proportion=0.1, degree=7, Training RMSE=0.000, Testing RMSE=0.330\n",
      "proportion=0.1, degree=12, Training RMSE=0.000, Testing RMSE=0.371\n"
     ]
    }
   ],
   "source": [
    "seed = 90\n",
    "degrees = [1, 3, 7, 12]\n",
    "split_ratios = [0.9, 0.5, 0.1]\n",
    "\n",
    "for split_ratio in split_ratios:\n",
    "    for degree in degrees:\n",
    "        train_test_split_demo(x, y, degree, split_ratio, seed)"
   ]
  },
  {
   "cell_type": "markdown",
   "metadata": {},
   "source": [
    "# 3 Ridge Regression\n",
    "Please fill in the function below."
   ]
  },
  {
   "cell_type": "code",
   "execution_count": 53,
   "metadata": {
    "tags": []
   },
   "outputs": [],
   "source": [
    "def ridge_regression(y, tx, lambda_):\n",
    "    \"\"\"implement ridge regression.\"\"\"\n",
    "    # ***************************************************\n",
    "    # INSERT YOUR CODE HERE\n",
    "    # ridge regression: TODO\n",
    "    # ***************************************************\n",
    "    N = y.size\n",
    "    w = npl.solve(tx.T @ tx + 2*N*lambda_, tx.T @ y)\n",
    "    e = y - tx @ w\n",
    "    mse = npl.norm(e, 2)**2 / (2*N)\n",
    "    return mse, w"
   ]
  },
  {
   "cell_type": "code",
   "execution_count": 54,
   "metadata": {
    "tags": []
   },
   "outputs": [],
   "source": [
    "def ridge_regression_demo(x, y, degree, ratio, seed):\n",
    "    \"\"\"ridge regression demo.\"\"\"\n",
    "    # define parameter\n",
    "    lambdas = np.logspace(-5, 0, 15)\n",
    "    # ***************************************************\n",
    "    # INSERT YOUR CODE HERE\n",
    "    # split the data, and return train and test data: TODO\n",
    "    # ***************************************************\n",
    "    x_train, y_train, x_test, y_test = split_data(x, y, ratio, seed)\n",
    "    # ***************************************************\n",
    "    # INSERT YOUR CODE HERE\n",
    "    # form train and test data with polynomial basis function: TODO\n",
    "    # ***************************************************\n",
    "    X_train = build_poly(x_train, degree)\n",
    "    X_test = build_poly(x_test, degree)\n",
    "\n",
    "    rmse_tr = []\n",
    "    rmse_te = []\n",
    "    for ind, lambda_ in enumerate(lambdas):\n",
    "        # ***************************************************\n",
    "        # INSERT YOUR CODE HERE\n",
    "        # ridge regression with a given lambda\n",
    "        # ***************************************************\n",
    "        mse, w = ridge_regression(y_train, X_train, lambda_)\n",
    "        rmse_tr.append((2*mse)**0.5)\n",
    "        e = y_test - X_test @ w\n",
    "        N = y_test.size\n",
    "        rmse_te.append(npl.norm(e) / (N**0.5))\n",
    "        print(\"proportion={p}, degree={d}, lambda={l:.3f}, Training RMSE={tr:.3f}, Testing RMSE={te:.3f}\".format(\n",
    "               p=ratio, d=degree, l=lambda_, tr=rmse_tr[ind], te=rmse_te[ind]))\n",
    "        \n",
    "    # Plot the obtained results\n",
    "    plot_train_test(rmse_tr, rmse_te, lambdas, degree)\n"
   ]
  },
  {
   "cell_type": "code",
   "execution_count": 74,
   "metadata": {
    "tags": []
   },
   "outputs": [
    {
     "name": "stdout",
     "output_type": "stream",
     "text": [
      "proportion=0.5, degree=7, lambda=0.000, Training RMSE=0.237, Testing RMSE=0.310\n",
      "proportion=0.5, degree=7, lambda=0.000, Training RMSE=0.237, Testing RMSE=0.310\n",
      "proportion=0.5, degree=7, lambda=0.000, Training RMSE=0.237, Testing RMSE=0.310\n",
      "proportion=0.5, degree=7, lambda=0.000, Training RMSE=0.237, Testing RMSE=0.310\n",
      "proportion=0.5, degree=7, lambda=0.000, Training RMSE=0.237, Testing RMSE=0.309\n",
      "proportion=0.5, degree=7, lambda=0.001, Training RMSE=0.237, Testing RMSE=0.309\n",
      "proportion=0.5, degree=7, lambda=0.001, Training RMSE=0.237, Testing RMSE=0.308\n",
      "proportion=0.5, degree=7, lambda=0.003, Training RMSE=0.238, Testing RMSE=0.305\n",
      "proportion=0.5, degree=7, lambda=0.007, Training RMSE=0.239, Testing RMSE=0.301\n",
      "proportion=0.5, degree=7, lambda=0.016, Training RMSE=0.245, Testing RMSE=0.299\n",
      "proportion=0.5, degree=7, lambda=0.037, Training RMSE=0.262, Testing RMSE=0.307\n",
      "proportion=0.5, degree=7, lambda=0.085, Training RMSE=0.293, Testing RMSE=0.337\n",
      "proportion=0.5, degree=7, lambda=0.193, Training RMSE=0.330, Testing RMSE=0.379\n",
      "proportion=0.5, degree=7, lambda=0.439, Training RMSE=0.359, Testing RMSE=0.415\n",
      "proportion=0.5, degree=7, lambda=1.000, Training RMSE=0.376, Testing RMSE=0.437\n"
     ]
    },
    {
     "data": {
      "image/png": "[encoded data removed]",
      "text/plain": [
       "<Figure size 432x288 with 1 Axes>"
      ]
     },
     "metadata": {
      "needs_background": "light"
     },
     "output_type": "display_data"
    }
   ],
   "source": [
    "seed = 25\n",
    "degree = 7\n",
    "split_ratio = 0.5\n",
    "ridge_regression_demo(x, y, degree, split_ratio, seed)"
   ]
  }
 ],
 "metadata": {
  "anaconda-cloud": {},
  "kernelspec": {
   "display_name": "Python 3 (ipykernel)",
   "language": "python",
   "name": "python3"
  },
  "language_info": {
   "codemirror_mode": {
    "name": "ipython",
    "version": 3
   },
   "file_extension": ".py",
   "mimetype": "text/x-python",
   "name": "python",
   "nbconvert_exporter": "python",
   "pygments_lexer": "ipython3",
   "version": "3.8.11"
  }
 },
 "nbformat": 4,
 "nbformat_minor": 4
}
