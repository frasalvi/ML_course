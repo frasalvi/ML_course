{
  "nbformat": 4,
  "nbformat_minor": 0,
  "metadata": {
    "accelerator": "GPU",
    "colab": {
      "name": "Copia di EPFL ML – Lab 10: Adversarial Robustness",
      "provenance": [],
      "collapsed_sections": []
    },
    "kernelspec": {
      "display_name": "Python 3",
      "language": "python",
      "name": "python3"
    },
    "language_info": {
      "codemirror_mode": {
        "name": "ipython",
        "version": 3
      },
      "file_extension": ".py",
      "mimetype": "text/x-python",
      "name": "python",
      "nbconvert_exporter": "python",
      "pygments_lexer": "ipython3",
      "version": "3.7.4"
    },
    "widgets": {
      "application/vnd.jupyter.widget-state+json": {
        "dbcd184cbe634e569bc5112b30139ef4": {
          "model_module": "@jupyter-widgets/controls",
          "model_name": "HBoxModel",
          "model_module_version": "1.5.0",
          "state": {
            "_view_name": "HBoxView",
            "_dom_classes": [],
            "_model_name": "HBoxModel",
            "_view_module": "@jupyter-widgets/controls",
            "_model_module_version": "1.5.0",
            "_view_count": null,
            "_view_module_version": "1.5.0",
            "box_style": "",
            "layout": "IPY_MODEL_6f462b672cf4466bb5c4c5899dbbb72e",
            "_model_module": "@jupyter-widgets/controls",
            "children": [
              "IPY_MODEL_12735f9e5b3f4a51a1e610c92d09dcec",
              "IPY_MODEL_28edc9ac43bf4203b31a5831a1765a8c",
              "IPY_MODEL_4212c4f514a8477986fb3a9efbb3eac1"
            ]
          }
        },
        "6f462b672cf4466bb5c4c5899dbbb72e": {
          "model_module": "@jupyter-widgets/base",
          "model_name": "LayoutModel",
          "model_module_version": "1.2.0",
          "state": {
            "_view_name": "LayoutView",
            "grid_template_rows": null,
            "right": null,
            "justify_content": null,
            "_view_module": "@jupyter-widgets/base",
            "overflow": null,
            "_model_module_version": "1.2.0",
            "_view_count": null,
            "flex_flow": null,
            "width": null,
            "min_width": null,
            "border": null,
            "align_items": null,
            "bottom": null,
            "_model_module": "@jupyter-widgets/base",
            "top": null,
            "grid_column": null,
            "overflow_y": null,
            "overflow_x": null,
            "grid_auto_flow": null,
            "grid_area": null,
            "grid_template_columns": null,
            "flex": null,
            "_model_name": "LayoutModel",
            "justify_items": null,
            "grid_row": null,
            "max_height": null,
            "align_content": null,
            "visibility": null,
            "align_self": null,
            "height": null,
            "min_height": null,
            "padding": null,
            "grid_auto_rows": null,
            "grid_gap": null,
            "max_width": null,
            "order": null,
            "_view_module_version": "1.2.0",
            "grid_template_areas": null,
            "object_position": null,
            "object_fit": null,
            "grid_auto_columns": null,
            "margin": null,
            "display": null,
            "left": null
          }
        },
        "12735f9e5b3f4a51a1e610c92d09dcec": {
          "model_module": "@jupyter-widgets/controls",
          "model_name": "HTMLModel",
          "model_module_version": "1.5.0",
          "state": {
            "_view_name": "HTMLView",
            "style": "IPY_MODEL_bcf96fff48db4d9ab3ff10a6d3c9566e",
            "_dom_classes": [],
            "description": "",
            "_model_name": "HTMLModel",
            "placeholder": "​",
            "_view_module": "@jupyter-widgets/controls",
            "_model_module_version": "1.5.0",
            "value": "",
            "_view_count": null,
            "_view_module_version": "1.5.0",
            "description_tooltip": null,
            "_model_module": "@jupyter-widgets/controls",
            "layout": "IPY_MODEL_87497e7acbd149a892703027643b7bd2"
          }
        },
        "28edc9ac43bf4203b31a5831a1765a8c": {
          "model_module": "@jupyter-widgets/controls",
          "model_name": "FloatProgressModel",
          "model_module_version": "1.5.0",
          "state": {
            "_view_name": "ProgressView",
            "style": "IPY_MODEL_348aa8912dc14bb99114b08657c9e37e",
            "_dom_classes": [],
            "description": "",
            "_model_name": "FloatProgressModel",
            "bar_style": "success",
            "max": 9912422,
            "_view_module": "@jupyter-widgets/controls",
            "_model_module_version": "1.5.0",
            "value": 9912422,
            "_view_count": null,
            "_view_module_version": "1.5.0",
            "orientation": "horizontal",
            "min": 0,
            "description_tooltip": null,
            "_model_module": "@jupyter-widgets/controls",
            "layout": "IPY_MODEL_80d3c911ffb54cfabc332f421328789f"
          }
        },
        "4212c4f514a8477986fb3a9efbb3eac1": {
          "model_module": "@jupyter-widgets/controls",
          "model_name": "HTMLModel",
          "model_module_version": "1.5.0",
          "state": {
            "_view_name": "HTMLView",
            "style": "IPY_MODEL_1bfb67b4a7a74f28907ab54bb0c26179",
            "_dom_classes": [],
            "description": "",
            "_model_name": "HTMLModel",
            "placeholder": "​",
            "_view_module": "@jupyter-widgets/controls",
            "_model_module_version": "1.5.0",
            "value": " 9913344/? [00:00&lt;00:00, 28719005.77it/s]",
            "_view_count": null,
            "_view_module_version": "1.5.0",
            "description_tooltip": null,
            "_model_module": "@jupyter-widgets/controls",
            "layout": "IPY_MODEL_c832b29890b2435288df2aead0ab507d"
          }
        },
        "bcf96fff48db4d9ab3ff10a6d3c9566e": {
          "model_module": "@jupyter-widgets/controls",
          "model_name": "DescriptionStyleModel",
          "model_module_version": "1.5.0",
          "state": {
            "_view_name": "StyleView",
            "_model_name": "DescriptionStyleModel",
            "description_width": "",
            "_view_module": "@jupyter-widgets/base",
            "_model_module_version": "1.5.0",
            "_view_count": null,
            "_view_module_version": "1.2.0",
            "_model_module": "@jupyter-widgets/controls"
          }
        },
        "87497e7acbd149a892703027643b7bd2": {
          "model_module": "@jupyter-widgets/base",
          "model_name": "LayoutModel",
          "model_module_version": "1.2.0",
          "state": {
            "_view_name": "LayoutView",
            "grid_template_rows": null,
            "right": null,
            "justify_content": null,
            "_view_module": "@jupyter-widgets/base",
            "overflow": null,
            "_model_module_version": "1.2.0",
            "_view_count": null,
            "flex_flow": null,
            "width": null,
            "min_width": null,
            "border": null,
            "align_items": null,
            "bottom": null,
            "_model_module": "@jupyter-widgets/base",
            "top": null,
            "grid_column": null,
            "overflow_y": null,
            "overflow_x": null,
            "grid_auto_flow": null,
            "grid_area": null,
            "grid_template_columns": null,
            "flex": null,
            "_model_name": "LayoutModel",
            "justify_items": null,
            "grid_row": null,
            "max_height": null,
            "align_content": null,
            "visibility": null,
            "align_self": null,
            "height": null,
            "min_height": null,
            "padding": null,
            "grid_auto_rows": null,
            "grid_gap": null,
            "max_width": null,
            "order": null,
            "_view_module_version": "1.2.0",
            "grid_template_areas": null,
            "object_position": null,
            "object_fit": null,
            "grid_auto_columns": null,
            "margin": null,
            "display": null,
            "left": null
          }
        },
        "348aa8912dc14bb99114b08657c9e37e": {
          "model_module": "@jupyter-widgets/controls",
          "model_name": "ProgressStyleModel",
          "model_module_version": "1.5.0",
          "state": {
            "_view_name": "StyleView",
            "_model_name": "ProgressStyleModel",
            "description_width": "",
            "_view_module": "@jupyter-widgets/base",
            "_model_module_version": "1.5.0",
            "_view_count": null,
            "_view_module_version": "1.2.0",
            "bar_color": null,
            "_model_module": "@jupyter-widgets/controls"
          }
        },
        "80d3c911ffb54cfabc332f421328789f": {
          "model_module": "@jupyter-widgets/base",
          "model_name": "LayoutModel",
          "model_module_version": "1.2.0",
          "state": {
            "_view_name": "LayoutView",
            "grid_template_rows": null,
            "right": null,
            "justify_content": null,
            "_view_module": "@jupyter-widgets/base",
            "overflow": null,
            "_model_module_version": "1.2.0",
            "_view_count": null,
            "flex_flow": null,
            "width": null,
            "min_width": null,
            "border": null,
            "align_items": null,
            "bottom": null,
            "_model_module": "@jupyter-widgets/base",
            "top": null,
            "grid_column": null,
            "overflow_y": null,
            "overflow_x": null,
            "grid_auto_flow": null,
            "grid_area": null,
            "grid_template_columns": null,
            "flex": null,
            "_model_name": "LayoutModel",
            "justify_items": null,
            "grid_row": null,
            "max_height": null,
            "align_content": null,
            "visibility": null,
            "align_self": null,
            "height": null,
            "min_height": null,
            "padding": null,
            "grid_auto_rows": null,
            "grid_gap": null,
            "max_width": null,
            "order": null,
            "_view_module_version": "1.2.0",
            "grid_template_areas": null,
            "object_position": null,
            "object_fit": null,
            "grid_auto_columns": null,
            "margin": null,
            "display": null,
            "left": null
          }
        },
        "1bfb67b4a7a74f28907ab54bb0c26179": {
          "model_module": "@jupyter-widgets/controls",
          "model_name": "DescriptionStyleModel",
          "model_module_version": "1.5.0",
          "state": {
            "_view_name": "StyleView",
            "_model_name": "DescriptionStyleModel",
            "description_width": "",
            "_view_module": "@jupyter-widgets/base",
            "_model_module_version": "1.5.0",
            "_view_count": null,
            "_view_module_version": "1.2.0",
            "_model_module": "@jupyter-widgets/controls"
          }
        },
        "c832b29890b2435288df2aead0ab507d": {
          "model_module": "@jupyter-widgets/base",
          "model_name": "LayoutModel",
          "model_module_version": "1.2.0",
          "state": {
            "_view_name": "LayoutView",
            "grid_template_rows": null,
            "right": null,
            "justify_content": null,
            "_view_module": "@jupyter-widgets/base",
            "overflow": null,
            "_model_module_version": "1.2.0",
            "_view_count": null,
            "flex_flow": null,
            "width": null,
            "min_width": null,
            "border": null,
            "align_items": null,
            "bottom": null,
            "_model_module": "@jupyter-widgets/base",
            "top": null,
            "grid_column": null,
            "overflow_y": null,
            "overflow_x": null,
            "grid_auto_flow": null,
            "grid_area": null,
            "grid_template_columns": null,
            "flex": null,
            "_model_name": "LayoutModel",
            "justify_items": null,
            "grid_row": null,
            "max_height": null,
            "align_content": null,
            "visibility": null,
            "align_self": null,
            "height": null,
            "min_height": null,
            "padding": null,
            "grid_auto_rows": null,
            "grid_gap": null,
            "max_width": null,
            "order": null,
            "_view_module_version": "1.2.0",
            "grid_template_areas": null,
            "object_position": null,
            "object_fit": null,
            "grid_auto_columns": null,
            "margin": null,
            "display": null,
            "left": null
          }
        },
        "6907b5ec06bd457283cf854833cdc76f": {
          "model_module": "@jupyter-widgets/controls",
          "model_name": "HBoxModel",
          "model_module_version": "1.5.0",
          "state": {
            "_view_name": "HBoxView",
            "_dom_classes": [],
            "_model_name": "HBoxModel",
            "_view_module": "@jupyter-widgets/controls",
            "_model_module_version": "1.5.0",
            "_view_count": null,
            "_view_module_version": "1.5.0",
            "box_style": "",
            "layout": "IPY_MODEL_cdbbf5a16864404290906ff95eae4c55",
            "_model_module": "@jupyter-widgets/controls",
            "children": [
              "IPY_MODEL_e65709ca036241bdbcfecf97cb998e31",
              "IPY_MODEL_210f57bce92b433b842911c96807d486",
              "IPY_MODEL_b3cbfea8a4c2408a8611294d56c29f14"
            ]
          }
        },
        "cdbbf5a16864404290906ff95eae4c55": {
          "model_module": "@jupyter-widgets/base",
          "model_name": "LayoutModel",
          "model_module_version": "1.2.0",
          "state": {
            "_view_name": "LayoutView",
            "grid_template_rows": null,
            "right": null,
            "justify_content": null,
            "_view_module": "@jupyter-widgets/base",
            "overflow": null,
            "_model_module_version": "1.2.0",
            "_view_count": null,
            "flex_flow": null,
            "width": null,
            "min_width": null,
            "border": null,
            "align_items": null,
            "bottom": null,
            "_model_module": "@jupyter-widgets/base",
            "top": null,
            "grid_column": null,
            "overflow_y": null,
            "overflow_x": null,
            "grid_auto_flow": null,
            "grid_area": null,
            "grid_template_columns": null,
            "flex": null,
            "_model_name": "LayoutModel",
            "justify_items": null,
            "grid_row": null,
            "max_height": null,
            "align_content": null,
            "visibility": null,
            "align_self": null,
            "height": null,
            "min_height": null,
            "padding": null,
            "grid_auto_rows": null,
            "grid_gap": null,
            "max_width": null,
            "order": null,
            "_view_module_version": "1.2.0",
            "grid_template_areas": null,
            "object_position": null,
            "object_fit": null,
            "grid_auto_columns": null,
            "margin": null,
            "display": null,
            "left": null
          }
        },
        "e65709ca036241bdbcfecf97cb998e31": {
          "model_module": "@jupyter-widgets/controls",
          "model_name": "HTMLModel",
          "model_module_version": "1.5.0",
          "state": {
            "_view_name": "HTMLView",
            "style": "IPY_MODEL_6e9b4e7bf2e148c5ada5f8cde03e52f1",
            "_dom_classes": [],
            "description": "",
            "_model_name": "HTMLModel",
            "placeholder": "​",
            "_view_module": "@jupyter-widgets/controls",
            "_model_module_version": "1.5.0",
            "value": "",
            "_view_count": null,
            "_view_module_version": "1.5.0",
            "description_tooltip": null,
            "_model_module": "@jupyter-widgets/controls",
            "layout": "IPY_MODEL_1e49c7b5529b4d41a5ca98e47dce78fa"
          }
        },
        "210f57bce92b433b842911c96807d486": {
          "model_module": "@jupyter-widgets/controls",
          "model_name": "FloatProgressModel",
          "model_module_version": "1.5.0",
          "state": {
            "_view_name": "ProgressView",
            "style": "IPY_MODEL_3ba235b5cf874f61baa7f2d2904c45e1",
            "_dom_classes": [],
            "description": "",
            "_model_name": "FloatProgressModel",
            "bar_style": "success",
            "max": 28881,
            "_view_module": "@jupyter-widgets/controls",
            "_model_module_version": "1.5.0",
            "value": 28881,
            "_view_count": null,
            "_view_module_version": "1.5.0",
            "orientation": "horizontal",
            "min": 0,
            "description_tooltip": null,
            "_model_module": "@jupyter-widgets/controls",
            "layout": "IPY_MODEL_f1bef3e2b5c84221b9cf2cb0bf36ce25"
          }
        },
        "b3cbfea8a4c2408a8611294d56c29f14": {
          "model_module": "@jupyter-widgets/controls",
          "model_name": "HTMLModel",
          "model_module_version": "1.5.0",
          "state": {
            "_view_name": "HTMLView",
            "style": "IPY_MODEL_7e472d44d5594d56831f75287fa5795b",
            "_dom_classes": [],
            "description": "",
            "_model_name": "HTMLModel",
            "placeholder": "​",
            "_view_module": "@jupyter-widgets/controls",
            "_model_module_version": "1.5.0",
            "value": " 29696/? [00:00&lt;00:00, 700517.15it/s]",
            "_view_count": null,
            "_view_module_version": "1.5.0",
            "description_tooltip": null,
            "_model_module": "@jupyter-widgets/controls",
            "layout": "IPY_MODEL_29c00eff89d945f38ae5a540901c87e1"
          }
        },
        "6e9b4e7bf2e148c5ada5f8cde03e52f1": {
          "model_module": "@jupyter-widgets/controls",
          "model_name": "DescriptionStyleModel",
          "model_module_version": "1.5.0",
          "state": {
            "_view_name": "StyleView",
            "_model_name": "DescriptionStyleModel",
            "description_width": "",
            "_view_module": "@jupyter-widgets/base",
            "_model_module_version": "1.5.0",
            "_view_count": null,
            "_view_module_version": "1.2.0",
            "_model_module": "@jupyter-widgets/controls"
          }
        },
        "1e49c7b5529b4d41a5ca98e47dce78fa": {
          "model_module": "@jupyter-widgets/base",
          "model_name": "LayoutModel",
          "model_module_version": "1.2.0",
          "state": {
            "_view_name": "LayoutView",
            "grid_template_rows": null,
            "right": null,
            "justify_content": null,
            "_view_module": "@jupyter-widgets/base",
            "overflow": null,
            "_model_module_version": "1.2.0",
            "_view_count": null,
            "flex_flow": null,
            "width": null,
            "min_width": null,
            "border": null,
            "align_items": null,
            "bottom": null,
            "_model_module": "@jupyter-widgets/base",
            "top": null,
            "grid_column": null,
            "overflow_y": null,
            "overflow_x": null,
            "grid_auto_flow": null,
            "grid_area": null,
            "grid_template_columns": null,
            "flex": null,
            "_model_name": "LayoutModel",
            "justify_items": null,
            "grid_row": null,
            "max_height": null,
            "align_content": null,
            "visibility": null,
            "align_self": null,
            "height": null,
            "min_height": null,
            "padding": null,
            "grid_auto_rows": null,
            "grid_gap": null,
            "max_width": null,
            "order": null,
            "_view_module_version": "1.2.0",
            "grid_template_areas": null,
            "object_position": null,
            "object_fit": null,
            "grid_auto_columns": null,
            "margin": null,
            "display": null,
            "left": null
          }
        },
        "3ba235b5cf874f61baa7f2d2904c45e1": {
          "model_module": "@jupyter-widgets/controls",
          "model_name": "ProgressStyleModel",
          "model_module_version": "1.5.0",
          "state": {
            "_view_name": "StyleView",
            "_model_name": "ProgressStyleModel",
            "description_width": "",
            "_view_module": "@jupyter-widgets/base",
            "_model_module_version": "1.5.0",
            "_view_count": null,
            "_view_module_version": "1.2.0",
            "bar_color": null,
            "_model_module": "@jupyter-widgets/controls"
          }
        },
        "f1bef3e2b5c84221b9cf2cb0bf36ce25": {
          "model_module": "@jupyter-widgets/base",
          "model_name": "LayoutModel",
          "model_module_version": "1.2.0",
          "state": {
            "_view_name": "LayoutView",
            "grid_template_rows": null,
            "right": null,
            "justify_content": null,
            "_view_module": "@jupyter-widgets/base",
            "overflow": null,
            "_model_module_version": "1.2.0",
            "_view_count": null,
            "flex_flow": null,
            "width": null,
            "min_width": null,
            "border": null,
            "align_items": null,
            "bottom": null,
            "_model_module": "@jupyter-widgets/base",
            "top": null,
            "grid_column": null,
            "overflow_y": null,
            "overflow_x": null,
            "grid_auto_flow": null,
            "grid_area": null,
            "grid_template_columns": null,
            "flex": null,
            "_model_name": "LayoutModel",
            "justify_items": null,
            "grid_row": null,
            "max_height": null,
            "align_content": null,
            "visibility": null,
            "align_self": null,
            "height": null,
            "min_height": null,
            "padding": null,
            "grid_auto_rows": null,
            "grid_gap": null,
            "max_width": null,
            "order": null,
            "_view_module_version": "1.2.0",
            "grid_template_areas": null,
            "object_position": null,
            "object_fit": null,
            "grid_auto_columns": null,
            "margin": null,
            "display": null,
            "left": null
          }
        },
        "7e472d44d5594d56831f75287fa5795b": {
          "model_module": "@jupyter-widgets/controls",
          "model_name": "DescriptionStyleModel",
          "model_module_version": "1.5.0",
          "state": {
            "_view_name": "StyleView",
            "_model_name": "DescriptionStyleModel",
            "description_width": "",
            "_view_module": "@jupyter-widgets/base",
            "_model_module_version": "1.5.0",
            "_view_count": null,
            "_view_module_version": "1.2.0",
            "_model_module": "@jupyter-widgets/controls"
          }
        },
        "29c00eff89d945f38ae5a540901c87e1": {
          "model_module": "@jupyter-widgets/base",
          "model_name": "LayoutModel",
          "model_module_version": "1.2.0",
          "state": {
            "_view_name": "LayoutView",
            "grid_template_rows": null,
            "right": null,
            "justify_content": null,
            "_view_module": "@jupyter-widgets/base",
            "overflow": null,
            "_model_module_version": "1.2.0",
            "_view_count": null,
            "flex_flow": null,
            "width": null,
            "min_width": null,
            "border": null,
            "align_items": null,
            "bottom": null,
            "_model_module": "@jupyter-widgets/base",
            "top": null,
            "grid_column": null,
            "overflow_y": null,
            "overflow_x": null,
            "grid_auto_flow": null,
            "grid_area": null,
            "grid_template_columns": null,
            "flex": null,
            "_model_name": "LayoutModel",
            "justify_items": null,
            "grid_row": null,
            "max_height": null,
            "align_content": null,
            "visibility": null,
            "align_self": null,
            "height": null,
            "min_height": null,
            "padding": null,
            "grid_auto_rows": null,
            "grid_gap": null,
            "max_width": null,
            "order": null,
            "_view_module_version": "1.2.0",
            "grid_template_areas": null,
            "object_position": null,
            "object_fit": null,
            "grid_auto_columns": null,
            "margin": null,
            "display": null,
            "left": null
          }
        },
        "63aca0f65b70404787b3bb1a7d413509": {
          "model_module": "@jupyter-widgets/controls",
          "model_name": "HBoxModel",
          "model_module_version": "1.5.0",
          "state": {
            "_view_name": "HBoxView",
            "_dom_classes": [],
            "_model_name": "HBoxModel",
            "_view_module": "@jupyter-widgets/controls",
            "_model_module_version": "1.5.0",
            "_view_count": null,
            "_view_module_version": "1.5.0",
            "box_style": "",
            "layout": "IPY_MODEL_1de0b33b3109426087d92c8aca9259c6",
            "_model_module": "@jupyter-widgets/controls",
            "children": [
              "IPY_MODEL_7a86f93581d149bdb940183ae7fc11cd",
              "IPY_MODEL_818cee0620f54351b0378eb7dda2bfb1",
              "IPY_MODEL_247868ffc1db4d4481269f459c3f8960"
            ]
          }
        },
        "1de0b33b3109426087d92c8aca9259c6": {
          "model_module": "@jupyter-widgets/base",
          "model_name": "LayoutModel",
          "model_module_version": "1.2.0",
          "state": {
            "_view_name": "LayoutView",
            "grid_template_rows": null,
            "right": null,
            "justify_content": null,
            "_view_module": "@jupyter-widgets/base",
            "overflow": null,
            "_model_module_version": "1.2.0",
            "_view_count": null,
            "flex_flow": null,
            "width": null,
            "min_width": null,
            "border": null,
            "align_items": null,
            "bottom": null,
            "_model_module": "@jupyter-widgets/base",
            "top": null,
            "grid_column": null,
            "overflow_y": null,
            "overflow_x": null,
            "grid_auto_flow": null,
            "grid_area": null,
            "grid_template_columns": null,
            "flex": null,
            "_model_name": "LayoutModel",
            "justify_items": null,
            "grid_row": null,
            "max_height": null,
            "align_content": null,
            "visibility": null,
            "align_self": null,
            "height": null,
            "min_height": null,
            "padding": null,
            "grid_auto_rows": null,
            "grid_gap": null,
            "max_width": null,
            "order": null,
            "_view_module_version": "1.2.0",
            "grid_template_areas": null,
            "object_position": null,
            "object_fit": null,
            "grid_auto_columns": null,
            "margin": null,
            "display": null,
            "left": null
          }
        },
        "7a86f93581d149bdb940183ae7fc11cd": {
          "model_module": "@jupyter-widgets/controls",
          "model_name": "HTMLModel",
          "model_module_version": "1.5.0",
          "state": {
            "_view_name": "HTMLView",
            "style": "IPY_MODEL_054359e32a7a4d7b8e84c8adb1deb75c",
            "_dom_classes": [],
            "description": "",
            "_model_name": "HTMLModel",
            "placeholder": "​",
            "_view_module": "@jupyter-widgets/controls",
            "_model_module_version": "1.5.0",
            "value": "",
            "_view_count": null,
            "_view_module_version": "1.5.0",
            "description_tooltip": null,
            "_model_module": "@jupyter-widgets/controls",
            "layout": "IPY_MODEL_171d4fee224b4e42ad128dbc5f4aef80"
          }
        },
        "818cee0620f54351b0378eb7dda2bfb1": {
          "model_module": "@jupyter-widgets/controls",
          "model_name": "FloatProgressModel",
          "model_module_version": "1.5.0",
          "state": {
            "_view_name": "ProgressView",
            "style": "IPY_MODEL_880142181f7941cfa522dffbcfa154d6",
            "_dom_classes": [],
            "description": "",
            "_model_name": "FloatProgressModel",
            "bar_style": "success",
            "max": 1648877,
            "_view_module": "@jupyter-widgets/controls",
            "_model_module_version": "1.5.0",
            "value": 1648877,
            "_view_count": null,
            "_view_module_version": "1.5.0",
            "orientation": "horizontal",
            "min": 0,
            "description_tooltip": null,
            "_model_module": "@jupyter-widgets/controls",
            "layout": "IPY_MODEL_4dac768fffe54bf3ba6738ce559224de"
          }
        },
        "247868ffc1db4d4481269f459c3f8960": {
          "model_module": "@jupyter-widgets/controls",
          "model_name": "HTMLModel",
          "model_module_version": "1.5.0",
          "state": {
            "_view_name": "HTMLView",
            "style": "IPY_MODEL_e1cd1fb0f20e4459b9c95feb654004e2",
            "_dom_classes": [],
            "description": "",
            "_model_name": "HTMLModel",
            "placeholder": "​",
            "_view_module": "@jupyter-widgets/controls",
            "_model_module_version": "1.5.0",
            "value": " 1649664/? [00:00&lt;00:00, 5648503.23it/s]",
            "_view_count": null,
            "_view_module_version": "1.5.0",
            "description_tooltip": null,
            "_model_module": "@jupyter-widgets/controls",
            "layout": "IPY_MODEL_a62cdec13fef4c538fbffd1968ee50c0"
          }
        },
        "054359e32a7a4d7b8e84c8adb1deb75c": {
          "model_module": "@jupyter-widgets/controls",
          "model_name": "DescriptionStyleModel",
          "model_module_version": "1.5.0",
          "state": {
            "_view_name": "StyleView",
            "_model_name": "DescriptionStyleModel",
            "description_width": "",
            "_view_module": "@jupyter-widgets/base",
            "_model_module_version": "1.5.0",
            "_view_count": null,
            "_view_module_version": "1.2.0",
            "_model_module": "@jupyter-widgets/controls"
          }
        },
        "171d4fee224b4e42ad128dbc5f4aef80": {
          "model_module": "@jupyter-widgets/base",
          "model_name": "LayoutModel",
          "model_module_version": "1.2.0",
          "state": {
            "_view_name": "LayoutView",
            "grid_template_rows": null,
            "right": null,
            "justify_content": null,
            "_view_module": "@jupyter-widgets/base",
            "overflow": null,
            "_model_module_version": "1.2.0",
            "_view_count": null,
            "flex_flow": null,
            "width": null,
            "min_width": null,
            "border": null,
            "align_items": null,
            "bottom": null,
            "_model_module": "@jupyter-widgets/base",
            "top": null,
            "grid_column": null,
            "overflow_y": null,
            "overflow_x": null,
            "grid_auto_flow": null,
            "grid_area": null,
            "grid_template_columns": null,
            "flex": null,
            "_model_name": "LayoutModel",
            "justify_items": null,
            "grid_row": null,
            "max_height": null,
            "align_content": null,
            "visibility": null,
            "align_self": null,
            "height": null,
            "min_height": null,
            "padding": null,
            "grid_auto_rows": null,
            "grid_gap": null,
            "max_width": null,
            "order": null,
            "_view_module_version": "1.2.0",
            "grid_template_areas": null,
            "object_position": null,
            "object_fit": null,
            "grid_auto_columns": null,
            "margin": null,
            "display": null,
            "left": null
          }
        },
        "880142181f7941cfa522dffbcfa154d6": {
          "model_module": "@jupyter-widgets/controls",
          "model_name": "ProgressStyleModel",
          "model_module_version": "1.5.0",
          "state": {
            "_view_name": "StyleView",
            "_model_name": "ProgressStyleModel",
            "description_width": "",
            "_view_module": "@jupyter-widgets/base",
            "_model_module_version": "1.5.0",
            "_view_count": null,
            "_view_module_version": "1.2.0",
            "bar_color": null,
            "_model_module": "@jupyter-widgets/controls"
          }
        },
        "4dac768fffe54bf3ba6738ce559224de": {
          "model_module": "@jupyter-widgets/base",
          "model_name": "LayoutModel",
          "model_module_version": "1.2.0",
          "state": {
            "_view_name": "LayoutView",
            "grid_template_rows": null,
            "right": null,
            "justify_content": null,
            "_view_module": "@jupyter-widgets/base",
            "overflow": null,
            "_model_module_version": "1.2.0",
            "_view_count": null,
            "flex_flow": null,
            "width": null,
            "min_width": null,
            "border": null,
            "align_items": null,
            "bottom": null,
            "_model_module": "@jupyter-widgets/base",
            "top": null,
            "grid_column": null,
            "overflow_y": null,
            "overflow_x": null,
            "grid_auto_flow": null,
            "grid_area": null,
            "grid_template_columns": null,
            "flex": null,
            "_model_name": "LayoutModel",
            "justify_items": null,
            "grid_row": null,
            "max_height": null,
            "align_content": null,
            "visibility": null,
            "align_self": null,
            "height": null,
            "min_height": null,
            "padding": null,
            "grid_auto_rows": null,
            "grid_gap": null,
            "max_width": null,
            "order": null,
            "_view_module_version": "1.2.0",
            "grid_template_areas": null,
            "object_position": null,
            "object_fit": null,
            "grid_auto_columns": null,
            "margin": null,
            "display": null,
            "left": null
          }
        },
        "e1cd1fb0f20e4459b9c95feb654004e2": {
          "model_module": "@jupyter-widgets/controls",
          "model_name": "DescriptionStyleModel",
          "model_module_version": "1.5.0",
          "state": {
            "_view_name": "StyleView",
            "_model_name": "DescriptionStyleModel",
            "description_width": "",
            "_view_module": "@jupyter-widgets/base",
            "_model_module_version": "1.5.0",
            "_view_count": null,
            "_view_module_version": "1.2.0",
            "_model_module": "@jupyter-widgets/controls"
          }
        },
        "a62cdec13fef4c538fbffd1968ee50c0": {
          "model_module": "@jupyter-widgets/base",
          "model_name": "LayoutModel",
          "model_module_version": "1.2.0",
          "state": {
            "_view_name": "LayoutView",
            "grid_template_rows": null,
            "right": null,
            "justify_content": null,
            "_view_module": "@jupyter-widgets/base",
            "overflow": null,
            "_model_module_version": "1.2.0",
            "_view_count": null,
            "flex_flow": null,
            "width": null,
            "min_width": null,
            "border": null,
            "align_items": null,
            "bottom": null,
            "_model_module": "@jupyter-widgets/base",
            "top": null,
            "grid_column": null,
            "overflow_y": null,
            "overflow_x": null,
            "grid_auto_flow": null,
            "grid_area": null,
            "grid_template_columns": null,
            "flex": null,
            "_model_name": "LayoutModel",
            "justify_items": null,
            "grid_row": null,
            "max_height": null,
            "align_content": null,
            "visibility": null,
            "align_self": null,
            "height": null,
            "min_height": null,
            "padding": null,
            "grid_auto_rows": null,
            "grid_gap": null,
            "max_width": null,
            "order": null,
            "_view_module_version": "1.2.0",
            "grid_template_areas": null,
            "object_position": null,
            "object_fit": null,
            "grid_auto_columns": null,
            "margin": null,
            "display": null,
            "left": null
          }
        },
        "01fb9b36b7b141f69f4ea390c4926b80": {
          "model_module": "@jupyter-widgets/controls",
          "model_name": "HBoxModel",
          "model_module_version": "1.5.0",
          "state": {
            "_view_name": "HBoxView",
            "_dom_classes": [],
            "_model_name": "HBoxModel",
            "_view_module": "@jupyter-widgets/controls",
            "_model_module_version": "1.5.0",
            "_view_count": null,
            "_view_module_version": "1.5.0",
            "box_style": "",
            "layout": "IPY_MODEL_2817ff73aa2347378b380be010a3b7ae",
            "_model_module": "@jupyter-widgets/controls",
            "children": [
              "IPY_MODEL_ed4a5359e48a4a6cae16a44a1cf2e930",
              "IPY_MODEL_4c117426a359451b97a231a09966c4ba",
              "IPY_MODEL_19aa44f5c5134765ac715cc5bd5504fe"
            ]
          }
        },
        "2817ff73aa2347378b380be010a3b7ae": {
          "model_module": "@jupyter-widgets/base",
          "model_name": "LayoutModel",
          "model_module_version": "1.2.0",
          "state": {
            "_view_name": "LayoutView",
            "grid_template_rows": null,
            "right": null,
            "justify_content": null,
            "_view_module": "@jupyter-widgets/base",
            "overflow": null,
            "_model_module_version": "1.2.0",
            "_view_count": null,
            "flex_flow": null,
            "width": null,
            "min_width": null,
            "border": null,
            "align_items": null,
            "bottom": null,
            "_model_module": "@jupyter-widgets/base",
            "top": null,
            "grid_column": null,
            "overflow_y": null,
            "overflow_x": null,
            "grid_auto_flow": null,
            "grid_area": null,
            "grid_template_columns": null,
            "flex": null,
            "_model_name": "LayoutModel",
            "justify_items": null,
            "grid_row": null,
            "max_height": null,
            "align_content": null,
            "visibility": null,
            "align_self": null,
            "height": null,
            "min_height": null,
            "padding": null,
            "grid_auto_rows": null,
            "grid_gap": null,
            "max_width": null,
            "order": null,
            "_view_module_version": "1.2.0",
            "grid_template_areas": null,
            "object_position": null,
            "object_fit": null,
            "grid_auto_columns": null,
            "margin": null,
            "display": null,
            "left": null
          }
        },
        "ed4a5359e48a4a6cae16a44a1cf2e930": {
          "model_module": "@jupyter-widgets/controls",
          "model_name": "HTMLModel",
          "model_module_version": "1.5.0",
          "state": {
            "_view_name": "HTMLView",
            "style": "IPY_MODEL_f5c7dd75fbc0425a8d38056923e5a577",
            "_dom_classes": [],
            "description": "",
            "_model_name": "HTMLModel",
            "placeholder": "​",
            "_view_module": "@jupyter-widgets/controls",
            "_model_module_version": "1.5.0",
            "value": "",
            "_view_count": null,
            "_view_module_version": "1.5.0",
            "description_tooltip": null,
            "_model_module": "@jupyter-widgets/controls",
            "layout": "IPY_MODEL_76b839b18547415ea494247def94d56c"
          }
        },
        "4c117426a359451b97a231a09966c4ba": {
          "model_module": "@jupyter-widgets/controls",
          "model_name": "FloatProgressModel",
          "model_module_version": "1.5.0",
          "state": {
            "_view_name": "ProgressView",
            "style": "IPY_MODEL_50775287676d4149ad507d8f3538bb75",
            "_dom_classes": [],
            "description": "",
            "_model_name": "FloatProgressModel",
            "bar_style": "success",
            "max": 4542,
            "_view_module": "@jupyter-widgets/controls",
            "_model_module_version": "1.5.0",
            "value": 4542,
            "_view_count": null,
            "_view_module_version": "1.5.0",
            "orientation": "horizontal",
            "min": 0,
            "description_tooltip": null,
            "_model_module": "@jupyter-widgets/controls",
            "layout": "IPY_MODEL_9d09a2db88594561938be614bb8e2a3c"
          }
        },
        "19aa44f5c5134765ac715cc5bd5504fe": {
          "model_module": "@jupyter-widgets/controls",
          "model_name": "HTMLModel",
          "model_module_version": "1.5.0",
          "state": {
            "_view_name": "HTMLView",
            "style": "IPY_MODEL_f3b4b497e6ee481eb4965748345bbaa8",
            "_dom_classes": [],
            "description": "",
            "_model_name": "HTMLModel",
            "placeholder": "​",
            "_view_module": "@jupyter-widgets/controls",
            "_model_module_version": "1.5.0",
            "value": " 5120/? [00:00&lt;00:00, 82872.19it/s]",
            "_view_count": null,
            "_view_module_version": "1.5.0",
            "description_tooltip": null,
            "_model_module": "@jupyter-widgets/controls",
            "layout": "IPY_MODEL_1e4fdf7707ff4b2d802804d6c97c78ec"
          }
        },
        "f5c7dd75fbc0425a8d38056923e5a577": {
          "model_module": "@jupyter-widgets/controls",
          "model_name": "DescriptionStyleModel",
          "model_module_version": "1.5.0",
          "state": {
            "_view_name": "StyleView",
            "_model_name": "DescriptionStyleModel",
            "description_width": "",
            "_view_module": "@jupyter-widgets/base",
            "_model_module_version": "1.5.0",
            "_view_count": null,
            "_view_module_version": "1.2.0",
            "_model_module": "@jupyter-widgets/controls"
          }
        },
        "76b839b18547415ea494247def94d56c": {
          "model_module": "@jupyter-widgets/base",
          "model_name": "LayoutModel",
          "model_module_version": "1.2.0",
          "state": {
            "_view_name": "LayoutView",
            "grid_template_rows": null,
            "right": null,
            "justify_content": null,
            "_view_module": "@jupyter-widgets/base",
            "overflow": null,
            "_model_module_version": "1.2.0",
            "_view_count": null,
            "flex_flow": null,
            "width": null,
            "min_width": null,
            "border": null,
            "align_items": null,
            "bottom": null,
            "_model_module": "@jupyter-widgets/base",
            "top": null,
            "grid_column": null,
            "overflow_y": null,
            "overflow_x": null,
            "grid_auto_flow": null,
            "grid_area": null,
            "grid_template_columns": null,
            "flex": null,
            "_model_name": "LayoutModel",
            "justify_items": null,
            "grid_row": null,
            "max_height": null,
            "align_content": null,
            "visibility": null,
            "align_self": null,
            "height": null,
            "min_height": null,
            "padding": null,
            "grid_auto_rows": null,
            "grid_gap": null,
            "max_width": null,
            "order": null,
            "_view_module_version": "1.2.0",
            "grid_template_areas": null,
            "object_position": null,
            "object_fit": null,
            "grid_auto_columns": null,
            "margin": null,
            "display": null,
            "left": null
          }
        },
        "50775287676d4149ad507d8f3538bb75": {
          "model_module": "@jupyter-widgets/controls",
          "model_name": "ProgressStyleModel",
          "model_module_version": "1.5.0",
          "state": {
            "_view_name": "StyleView",
            "_model_name": "ProgressStyleModel",
            "description_width": "",
            "_view_module": "@jupyter-widgets/base",
            "_model_module_version": "1.5.0",
            "_view_count": null,
            "_view_module_version": "1.2.0",
            "bar_color": null,
            "_model_module": "@jupyter-widgets/controls"
          }
        },
        "9d09a2db88594561938be614bb8e2a3c": {
          "model_module": "@jupyter-widgets/base",
          "model_name": "LayoutModel",
          "model_module_version": "1.2.0",
          "state": {
            "_view_name": "LayoutView",
            "grid_template_rows": null,
            "right": null,
            "justify_content": null,
            "_view_module": "@jupyter-widgets/base",
            "overflow": null,
            "_model_module_version": "1.2.0",
            "_view_count": null,
            "flex_flow": null,
            "width": null,
            "min_width": null,
            "border": null,
            "align_items": null,
            "bottom": null,
            "_model_module": "@jupyter-widgets/base",
            "top": null,
            "grid_column": null,
            "overflow_y": null,
            "overflow_x": null,
            "grid_auto_flow": null,
            "grid_area": null,
            "grid_template_columns": null,
            "flex": null,
            "_model_name": "LayoutModel",
            "justify_items": null,
            "grid_row": null,
            "max_height": null,
            "align_content": null,
            "visibility": null,
            "align_self": null,
            "height": null,
            "min_height": null,
            "padding": null,
            "grid_auto_rows": null,
            "grid_gap": null,
            "max_width": null,
            "order": null,
            "_view_module_version": "1.2.0",
            "grid_template_areas": null,
            "object_position": null,
            "object_fit": null,
            "grid_auto_columns": null,
            "margin": null,
            "display": null,
            "left": null
          }
        },
        "f3b4b497e6ee481eb4965748345bbaa8": {
          "model_module": "@jupyter-widgets/controls",
          "model_name": "DescriptionStyleModel",
          "model_module_version": "1.5.0",
          "state": {
            "_view_name": "StyleView",
            "_model_name": "DescriptionStyleModel",
            "description_width": "",
            "_view_module": "@jupyter-widgets/base",
            "_model_module_version": "1.5.0",
            "_view_count": null,
            "_view_module_version": "1.2.0",
            "_model_module": "@jupyter-widgets/controls"
          }
        },
        "1e4fdf7707ff4b2d802804d6c97c78ec": {
          "model_module": "@jupyter-widgets/base",
          "model_name": "LayoutModel",
          "model_module_version": "1.2.0",
          "state": {
            "_view_name": "LayoutView",
            "grid_template_rows": null,
            "right": null,
            "justify_content": null,
            "_view_module": "@jupyter-widgets/base",
            "overflow": null,
            "_model_module_version": "1.2.0",
            "_view_count": null,
            "flex_flow": null,
            "width": null,
            "min_width": null,
            "border": null,
            "align_items": null,
            "bottom": null,
            "_model_module": "@jupyter-widgets/base",
            "top": null,
            "grid_column": null,
            "overflow_y": null,
            "overflow_x": null,
            "grid_auto_flow": null,
            "grid_area": null,
            "grid_template_columns": null,
            "flex": null,
            "_model_name": "LayoutModel",
            "justify_items": null,
            "grid_row": null,
            "max_height": null,
            "align_content": null,
            "visibility": null,
            "align_self": null,
            "height": null,
            "min_height": null,
            "padding": null,
            "grid_auto_rows": null,
            "grid_gap": null,
            "max_width": null,
            "order": null,
            "_view_module_version": "1.2.0",
            "grid_template_areas": null,
            "object_position": null,
            "object_fit": null,
            "grid_auto_columns": null,
            "margin": null,
            "display": null,
            "left": null
          }
        }
      }
    }
  },
  "cells": [
    {
      "cell_type": "markdown",
      "metadata": {
        "id": "eoE7_FDHHkat"
      },
      "source": [
        "# Lab 10 – Adversarial Robustness\n",
        "\n",
        "Security and robustness of machine learning models have traditionally been often overlooked. It is usually quite easy for an adversary to create inputs (e.g. images) that look much like the originals to a human, but fool an ML model into thinking they are something else.\n",
        "\n",
        "![Illustration from Goodfellow et al. Adding imperceptible pixel-wise perturbations to an image can drastically alter a model's predictions.](https://miro.medium.com/max/573/1*Nj_toOwx_Hc5NLn97Jv-ww.png)\n",
        "\n",
        "In this lab, we will see that tiny perturbations to an image can cause drastically different model predictions. You will train two different image classifiers for hand-written digits: a logistic regression model and a neural net. For both, you will run the [Fast Gradient Sign Attack (FGSM)](https://arxiv.org/pdf/1412.6572.pdf), to try to fool them. Which one do you think will be more robust?\n",
        "\n",
        "Making machine learning models provably robust against any attack is still an open area of research, but in the second part of this lab, we will explore if we can make the models robust against the attacks conducted in the first part.\n",
        "\n",
        "A few notes:\n",
        "- If you're interested to read more, note that research on adversarial examples is not limited to the image domain, check out [this attack](https://arxiv.org/pdf/1801.01944.pdf) on speech-to-text models.\n",
        "- This lab is based on an official PyTorch tutorial on [Aversarial Example Generation](https://pytorch.org/tutorials/beginner/fgsm_tutorial.html)."
      ]
    },
    {
      "cell_type": "markdown",
      "metadata": {
        "id": "WONGBZ44qRiU"
      },
      "source": [
        "## 1. Training a digit classifier\n",
        "-------------------------\n",
        "\n",
        "We will start by implementing a simple classifier for 28x28 black-and-white images of handwritten digits (the MNIST dataset)."
      ]
    },
    {
      "cell_type": "code",
      "metadata": {
        "id": "ZB8fpDkDHkav"
      },
      "source": [
        "%matplotlib inline\n",
        "import torch\n",
        "import torch.nn as nn\n",
        "import torchvision\n",
        "import numpy as np\n",
        "import matplotlib.pyplot as plt"
      ],
      "execution_count": 1,
      "outputs": []
    },
    {
      "cell_type": "code",
      "metadata": {
        "id": "5mUntWBfkWL3"
      },
      "source": [
        "import os\n",
        "# os.environ['CUDA_LAUNCH_BLOCKING'] = \"1\""
      ],
      "execution_count": 2,
      "outputs": []
    },
    {
      "cell_type": "markdown",
      "metadata": {
        "id": "JaPQjvcxEzy2"
      },
      "source": [
        "### Implementing the `accuracy` function\n",
        "\n",
        "We will evaluate the quality of a classifier by its accuracy on the test set.\n",
        "\n",
        "__Exercise__ As a warm-up exercise, please complete the accuracy-function below and make sure that the tests pass."
      ]
    },
    {
      "cell_type": "code",
      "metadata": {
        "id": "ILOZIfcvwspy",
        "colab": {
          "base_uri": "https://localhost:8080/"
        },
        "outputId": "3745c88b-a040-42df-bfce-99f77d56949c"
      },
      "source": [
        "def accuracy(predicted_logits, reference):\n",
        "    \"\"\"\n",
        "    Compute the ratio of correctly predicted labels\n",
        "    \n",
        "    @param predicted_logits: float32 tensor of shape (batch size, num classes)\n",
        "    @param reference: int64 tensor of shape (batch_size) with the class number\n",
        "    \"\"\"\n",
        "    \n",
        "    # ***************************************************\n",
        "    # INSERT YOUR CODE HERE\n",
        "    # TODO\n",
        "    # ***************************************************\n",
        "    predictions = torch.argmax(predicted_logits, axis=1)\n",
        "    acc = 1 - (predictions != reference).sum() / len(reference)\n",
        "    return acc\n",
        "\n",
        "    \n",
        "def test_accuracy():\n",
        "    predictions = torch.tensor([[0.5, 1.0, 0.7], [-0.6, -0.3, 0]])\n",
        "    correct_labels = torch.tensor([0, 2])  # first is wrong, second is correct\n",
        "    assert accuracy(predictions, correct_labels).allclose(torch.tensor([0.5]))\n",
        "\n",
        "\n",
        "    predictions = torch.tensor([[0.5, 1.0, 0.7], [-0.6, -0.3, 0], [-1, 0, 1]])\n",
        "    correct_labels = torch.tensor([1, 1, 2])  # correct, wrong, correct\n",
        "    assert accuracy(predictions, correct_labels).allclose(torch.tensor([2/3]))\n",
        "\n",
        "    print(\"Tests passed\")\n",
        "  \n",
        "test_accuracy()"
      ],
      "execution_count": 3,
      "outputs": [
        {
          "output_type": "stream",
          "name": "stdout",
          "text": [
            "Tests passed\n"
          ]
        }
      ]
    },
    {
      "cell_type": "markdown",
      "metadata": {
        "id": "fM4xDA30GAri"
      },
      "source": [
        "### Logistic regression in PyTorch\n",
        "\n",
        "__Exercise__ Complete the PyTorch model below for logistic regression.\n",
        "Note that the model has 10 target classes, and therefore 10 outputs.\n",
        "Do not include the non-linear transformation like the softmax function. In PyTorch, this transformation is usually included in the loss function (`CrossEntropyLoss`)."
      ]
    },
    {
      "cell_type": "code",
      "metadata": {
        "id": "G7uo0P7dtofd"
      },
      "source": [
        "class LogisticRegressionModel(torch.nn.Module):\n",
        "    def __init__(self):\n",
        "        super().__init__()\n",
        "        self.image_area = 28 * 28 # pixels\n",
        "        self.num_classes = 10\n",
        "        \n",
        "        # ***************************************************\n",
        "        # INSERT YOUR CODE HERE\n",
        "        # TODO\n",
        "        # ***************************************************\n",
        "        self.linear_transform = nn.Linear(self.image_area, self.num_classes, bias=True)\n",
        "\n",
        "    def forward(self, x):\n",
        "        batch_size = x.shape[0]\n",
        "        flattened_images = x.view(batch_size, self.image_area)\n",
        "        return self.linear_transform(flattened_images)"
      ],
      "execution_count": 4,
      "outputs": []
    },
    {
      "cell_type": "markdown",
      "metadata": {
        "id": "Ijepok2GG7Q8"
      },
      "source": [
        "__Exercise__ Complete the training function below and train the logistic regression model."
      ]
    },
    {
      "cell_type": "code",
      "metadata": {
        "id": "T06qNribrErv"
      },
      "source": [
        "def train(model, criterion, dataset_train, dataset_test, optimizer, num_epochs):\n",
        "  \"\"\"\n",
        "  @param model: torch.nn.Module\n",
        "  @param criterion: torch.nn.modules.loss._Loss\n",
        "  @param dataset_train: torch.utils.data.DataLoader\n",
        "  @param dataset_test: torch.utils.data.DataLoader\n",
        "  @param optimizer: torch.optim.Optimizer\n",
        "  @param num_epochs: int\n",
        "  \"\"\"\n",
        "  print(\"Starting training\")\n",
        "  for epoch in range(num_epochs):\n",
        "    # Train an epoch\n",
        "    model.train()\n",
        "    for batch_x, batch_y in dataset_train:\n",
        "      batch_x, batch_y = batch_x.to(device), batch_y.to(device)\n",
        "\n",
        "      # Evaluate the network (forward pass)\n",
        "      # TODO: insert your code here\n",
        "      prediction = model.forward(batch_x)\n",
        "      loss = criterion(prediction, batch_y)\n",
        "\n",
        "      # Compute the gradient\n",
        "      # TODO: insert your code here\n",
        "      optimizer.zero_grad()\n",
        "      loss.backward()\n",
        "\n",
        "      # Update the parameters of the model with a gradient step\n",
        "      # TODO: insert your code here\n",
        "      optimizer.step()\n",
        "\n",
        "    # Test the quality on the test set\n",
        "    model.eval()\n",
        "    accuracies_test = []\n",
        "    for batch_x, batch_y in dataset_test:\n",
        "      batch_x, batch_y = batch_x.to(device), batch_y.to(device)\n",
        "\n",
        "      # Evaluate the network (forward pass)\n",
        "      prediction = model(batch_x)\n",
        "      accuracies_test.append(accuracy(prediction, batch_y))\n",
        "\n",
        "    print(\"Epoch {} | Test accuracy: {:.5f}\".format(epoch, sum(accuracies_test).item()/len(accuracies_test)))"
      ],
      "execution_count": 5,
      "outputs": []
    },
    {
      "cell_type": "code",
      "metadata": {
        "id": "ycGiA_y2iafW",
        "colab": {
          "base_uri": "https://localhost:8080/",
          "height": 637,
          "referenced_widgets": [
            "dbcd184cbe634e569bc5112b30139ef4",
            "6f462b672cf4466bb5c4c5899dbbb72e",
            "12735f9e5b3f4a51a1e610c92d09dcec",
            "28edc9ac43bf4203b31a5831a1765a8c",
            "4212c4f514a8477986fb3a9efbb3eac1",
            "bcf96fff48db4d9ab3ff10a6d3c9566e",
            "87497e7acbd149a892703027643b7bd2",
            "348aa8912dc14bb99114b08657c9e37e",
            "80d3c911ffb54cfabc332f421328789f",
            "1bfb67b4a7a74f28907ab54bb0c26179",
            "c832b29890b2435288df2aead0ab507d",
            "6907b5ec06bd457283cf854833cdc76f",
            "cdbbf5a16864404290906ff95eae4c55",
            "e65709ca036241bdbcfecf97cb998e31",
            "210f57bce92b433b842911c96807d486",
            "b3cbfea8a4c2408a8611294d56c29f14",
            "6e9b4e7bf2e148c5ada5f8cde03e52f1",
            "1e49c7b5529b4d41a5ca98e47dce78fa",
            "3ba235b5cf874f61baa7f2d2904c45e1",
            "f1bef3e2b5c84221b9cf2cb0bf36ce25",
            "7e472d44d5594d56831f75287fa5795b",
            "29c00eff89d945f38ae5a540901c87e1",
            "63aca0f65b70404787b3bb1a7d413509",
            "1de0b33b3109426087d92c8aca9259c6",
            "7a86f93581d149bdb940183ae7fc11cd",
            "818cee0620f54351b0378eb7dda2bfb1",
            "247868ffc1db4d4481269f459c3f8960",
            "054359e32a7a4d7b8e84c8adb1deb75c",
            "171d4fee224b4e42ad128dbc5f4aef80",
            "880142181f7941cfa522dffbcfa154d6",
            "4dac768fffe54bf3ba6738ce559224de",
            "e1cd1fb0f20e4459b9c95feb654004e2",
            "a62cdec13fef4c538fbffd1968ee50c0",
            "01fb9b36b7b141f69f4ea390c4926b80",
            "2817ff73aa2347378b380be010a3b7ae",
            "ed4a5359e48a4a6cae16a44a1cf2e930",
            "4c117426a359451b97a231a09966c4ba",
            "19aa44f5c5134765ac715cc5bd5504fe",
            "f5c7dd75fbc0425a8d38056923e5a577",
            "76b839b18547415ea494247def94d56c",
            "50775287676d4149ad507d8f3538bb75",
            "9d09a2db88594561938be614bb8e2a3c",
            "f3b4b497e6ee481eb4965748345bbaa8",
            "1e4fdf7707ff4b2d802804d6c97c78ec"
          ]
        },
        "outputId": "3480e9a9-6f48-4ef6-c62b-64b7ae749715"
      },
      "source": [
        "num_epochs = 10\n",
        "learning_rate = 1e-3\n",
        "batch_size = 1000\n",
        "\n",
        "dataset_test = torch.utils.data.DataLoader(\n",
        "  torchvision.datasets.MNIST('../data', train=False, download=True, transform=torchvision.transforms.ToTensor()), \n",
        "  batch_size=100,\n",
        "  shuffle=True\n",
        ")\n",
        "dataset_train = torch.utils.data.DataLoader(\n",
        "  torchvision.datasets.MNIST('../data', train=True, download=True, transform=torchvision.transforms.ToTensor()),\n",
        "  batch_size=batch_size,\n",
        "  shuffle=True\n",
        ")\n",
        "\n",
        "# If a GPU is available (should be on Colab, we will use it)\n",
        "if not torch.cuda.is_available():\n",
        "  raise Exception(\"Things will go much quicker if you enable a GPU in Colab under 'Runtime / Change Runtime Type'\")\n",
        "device = torch.device(\"cuda\" if torch.cuda.is_available() else \"cpu\")\n",
        "\n",
        "# Train the logistic regression model with the Adam optimizer\n",
        "criterion = torch.nn.CrossEntropyLoss() # this includes LogSoftmax which executes a logistic transformation\n",
        "model_logreg = LogisticRegressionModel().to(device)\n",
        "\n",
        "optimizer = torch.optim.Adam(model_logreg.parameters(), lr=learning_rate)\n",
        "train(model_logreg, criterion, dataset_train, dataset_test, optimizer, num_epochs)\n",
        "\n",
        "# You should expect a test accuracy of around 91%.\n",
        "# Training should take around a minute"
      ],
      "execution_count": 6,
      "outputs": [
        {
          "output_type": "stream",
          "name": "stdout",
          "text": [
            "Downloading http://yann.lecun.com/exdb/mnist/train-images-idx3-ubyte.gz\n",
            "Downloading http://yann.lecun.com/exdb/mnist/train-images-idx3-ubyte.gz to ../data/MNIST/raw/train-images-idx3-ubyte.gz\n"
          ]
        },
        {
          "output_type": "display_data",
          "data": {
            "application/vnd.jupyter.widget-view+json": {
              "model_id": "dbcd184cbe634e569bc5112b30139ef4",
              "version_minor": 0,
              "version_major": 2
            },
            "text/plain": [
              "  0%|          | 0/9912422 [00:00<?, ?it/s]"
            ]
          },
          "metadata": {}
        },
        {
          "output_type": "stream",
          "name": "stdout",
          "text": [
            "Extracting ../data/MNIST/raw/train-images-idx3-ubyte.gz to ../data/MNIST/raw\n",
            "\n",
            "Downloading http://yann.lecun.com/exdb/mnist/train-labels-idx1-ubyte.gz\n",
            "Downloading http://yann.lecun.com/exdb/mnist/train-labels-idx1-ubyte.gz to ../data/MNIST/raw/train-labels-idx1-ubyte.gz\n"
          ]
        },
        {
          "output_type": "display_data",
          "data": {
            "application/vnd.jupyter.widget-view+json": {
              "model_id": "6907b5ec06bd457283cf854833cdc76f",
              "version_minor": 0,
              "version_major": 2
            },
            "text/plain": [
              "  0%|          | 0/28881 [00:00<?, ?it/s]"
            ]
          },
          "metadata": {}
        },
        {
          "output_type": "stream",
          "name": "stdout",
          "text": [
            "Extracting ../data/MNIST/raw/train-labels-idx1-ubyte.gz to ../data/MNIST/raw\n",
            "\n",
            "Downloading http://yann.lecun.com/exdb/mnist/t10k-images-idx3-ubyte.gz\n",
            "Downloading http://yann.lecun.com/exdb/mnist/t10k-images-idx3-ubyte.gz to ../data/MNIST/raw/t10k-images-idx3-ubyte.gz\n"
          ]
        },
        {
          "output_type": "display_data",
          "data": {
            "application/vnd.jupyter.widget-view+json": {
              "model_id": "63aca0f65b70404787b3bb1a7d413509",
              "version_minor": 0,
              "version_major": 2
            },
            "text/plain": [
              "  0%|          | 0/1648877 [00:00<?, ?it/s]"
            ]
          },
          "metadata": {}
        },
        {
          "output_type": "stream",
          "name": "stdout",
          "text": [
            "Extracting ../data/MNIST/raw/t10k-images-idx3-ubyte.gz to ../data/MNIST/raw\n",
            "\n",
            "Downloading http://yann.lecun.com/exdb/mnist/t10k-labels-idx1-ubyte.gz\n",
            "Downloading http://yann.lecun.com/exdb/mnist/t10k-labels-idx1-ubyte.gz to ../data/MNIST/raw/t10k-labels-idx1-ubyte.gz\n"
          ]
        },
        {
          "output_type": "display_data",
          "data": {
            "application/vnd.jupyter.widget-view+json": {
              "model_id": "01fb9b36b7b141f69f4ea390c4926b80",
              "version_minor": 0,
              "version_major": 2
            },
            "text/plain": [
              "  0%|          | 0/4542 [00:00<?, ?it/s]"
            ]
          },
          "metadata": {}
        },
        {
          "output_type": "stream",
          "name": "stdout",
          "text": [
            "Extracting ../data/MNIST/raw/t10k-labels-idx1-ubyte.gz to ../data/MNIST/raw\n",
            "\n",
            "Starting training\n",
            "Epoch 0 | Test accuracy: 0.83330\n",
            "Epoch 1 | Test accuracy: 0.86950\n",
            "Epoch 2 | Test accuracy: 0.88780\n",
            "Epoch 3 | Test accuracy: 0.89660\n",
            "Epoch 4 | Test accuracy: 0.90130\n",
            "Epoch 5 | Test accuracy: 0.90510\n",
            "Epoch 6 | Test accuracy: 0.90650\n",
            "Epoch 7 | Test accuracy: 0.90940\n",
            "Epoch 8 | Test accuracy: 0.91130\n",
            "Epoch 9 | Test accuracy: 0.91130\n"
          ]
        }
      ]
    },
    {
      "cell_type": "markdown",
      "metadata": {
        "id": "Ehy22aHoKDzf"
      },
      "source": [
        "### A small convolutional network\n",
        "\n",
        "__Exercise__ Now, use the tools you built before to train this simple Convolutional Network. The following architecture can give reasonable results on MNIST:\n",
        "* first convolutional layer: 5x5 convolutions and 10 feature maps, \n",
        "* second convolutional layer: 5x5 convolutions and 20 feature maps, \n",
        "* dropout probability: 50%,\n",
        "* first fully-connected layer: 50 hidden units. "
      ]
    },
    {
      "cell_type": "code",
      "metadata": {
        "id": "Moh7XMmtJc7n"
      },
      "source": [
        "class LeNetModel(torch.nn.Module):\n",
        "  def __init__(self):\n",
        "    \"\"\"This architecture is inspired by LeCun et al., 1998. (Gradient-Based Learning Applied to Document Recognition)\"\"\"\n",
        "    super().__init__()\n",
        "    \n",
        "    # ***************************************************\n",
        "    # INSERT YOUR CODE HERE\n",
        "    # TODO\n",
        "    # ***************************************************\n",
        "    \n",
        "    self.conv1 =  nn.Conv2d(1, 10, (5, 5))\n",
        "    self.conv2 = nn.Conv2d(10, 20, (5, 5))\n",
        "    self.conv2_drop = nn.Dropout(0.5)\n",
        "    self.fc1 = nn.Linear(320, 50)\n",
        "    self.fc2 = nn.Linear(50, 10)\n",
        "\n",
        "  def forward(self, x):\n",
        "    relu = torch.nn.functional.relu\n",
        "    max_pool2d = torch.nn.functional.max_pool2d\n",
        "\n",
        "    x = relu(max_pool2d(self.conv1(x), 2))\n",
        "    x = relu(max_pool2d(self.conv2_drop(self.conv2(x)), 2))\n",
        "    x = x.view(-1, 320)\n",
        "    x = relu(self.fc1(x))\n",
        "    x = torch.nn.functional.dropout(x, training=self.training)\n",
        "    x = self.fc2(x)\n",
        "    # return torch.nn.functional.log_softmax(x, dim=1)\n",
        "    return x"
      ],
      "execution_count": 7,
      "outputs": []
    },
    {
      "cell_type": "code",
      "metadata": {
        "id": "mjLWKuW_nshD",
        "colab": {
          "base_uri": "https://localhost:8080/"
        },
        "outputId": "b46f22bf-ef03-4bad-b0e1-cad0a638d8e0"
      },
      "source": [
        "model_lenet = LeNetModel().to(device)\n",
        "optimizer = torch.optim.Adam(model_lenet.parameters(), lr=learning_rate)\n",
        "\n",
        "train(model_lenet, criterion, dataset_train, dataset_test, optimizer, num_epochs)\n",
        "\n",
        "# Expect roughly 97% accuracy on the test set.\n",
        "# Training should take around two minutes"
      ],
      "execution_count": 8,
      "outputs": [
        {
          "output_type": "stream",
          "name": "stdout",
          "text": [
            "Starting training\n",
            "Epoch 0 | Test accuracy: 0.90290\n",
            "Epoch 1 | Test accuracy: 0.94560\n",
            "Epoch 2 | Test accuracy: 0.95670\n",
            "Epoch 3 | Test accuracy: 0.96470\n",
            "Epoch 4 | Test accuracy: 0.96900\n",
            "Epoch 5 | Test accuracy: 0.97140\n",
            "Epoch 6 | Test accuracy: 0.97440\n",
            "Epoch 7 | Test accuracy: 0.97770\n",
            "Epoch 8 | Test accuracy: 0.97970\n",
            "Epoch 9 | Test accuracy: 0.98170\n"
          ]
        }
      ]
    },
    {
      "cell_type": "markdown",
      "metadata": {
        "id": "v5f-YxQVzyru"
      },
      "source": [
        "\n",
        "## 2. The Fast Gradient Sign Attack\n",
        "-------------------------\n",
        "\n",
        "One of the first and most popular adversarial attacks to date is\n",
        "referred to as the [Fast Gradient Sign Attack](https://arxiv.org/abs/1412.6572) and is described by Goodfellow et. al. in their paper 'Explaining and Harnessing Adversarial Examples'. The attack is remarkably simple, and yet often sufficient to generate successful adversarial examples for many standardly trained models. The main idea is that rather than working to __minimize__ the loss by adjusting the __model parameters__ based on the backpropagated gradients, the attack optimizes the __input data__ to __maximize__ the loss. In other words, the attack computes the gradient of the loss w.r.t the input data, then adjusts the input data to maximize this loss.\n",
        "\n",
        "![Illustration from Goodfellow et al. Adding imperceptible pixel-wise perturbations to an image can drastically alter a model's predictions.](https://miro.medium.com/max/573/1*Nj_toOwx_Hc5NLn97Jv-ww.png)\n",
        "\n",
        "In the figure above, $\\mathbf{x}$ is the original input image\n",
        "correctly classified as a “panda”, $y$ is the ground truth label\n",
        "for $\\mathbf{x}$, $\\mathbf{\\theta}$ represents the model\n",
        "parameters, and $J(\\mathbf{\\theta}, \\mathbf{x}, y)$ is the loss\n",
        "that is used to train the network. The attack backpropagates the\n",
        "gradient back to the input data to calculate\n",
        "$\\nabla_{x} J(\\mathbf{\\theta}, \\mathbf{x}, y)$. Then, it adjusts\n",
        "the input data by a small step ($\\epsilon$ or $0.007$ in the\n",
        "picture) in the direction (i.e. $sign(\\nabla_{x} J(\\mathbf{\\theta}, \\mathbf{x}, y))$) that will\n",
        "maximize the loss with respect to the $L_\\infty$ norm. The resulting perturbed image, $x'$, is then *misclassified* by the target network as a “gibbon” when it is still\n",
        "clearly a “panda”."
      ]
    },
    {
      "cell_type": "markdown",
      "metadata": {
        "id": "95T_alKBHka2"
      },
      "source": [
        "### Update rule\n",
        "\n",
        "__Exercise__ \n",
        "Let $\\mathbf{x}$ represent a network input (image) and let $J(\\theta, \\mathbf{x}, y)$ be the loss function of applying the network with parameters $\\theta$ to datapoint ($\\mathbf{x}$, $y$).\n",
        "Assuming that $J$ is **linear** in $\\mathbf{x}$ for some fixed weights $\\theta$, the perturbed image that achieves the highest loss while being not further than $\\epsilon$ away from $\\mathbf{x}$ in $L_\\infty$ norm is\n",
        "\n",
        "$$ \\hat{\\mathbf{x}} = \\mathbf{x} + \\epsilon \\text{ sign}(\\nabla_xJ(\\theta,\\mathbf{x},y).$$\n",
        "\n",
        "Implement the update below (for a batch of images all at once). Make sure that the pixel values stay in the image range $[0, 1]$.\n",
        "\n"
      ]
    },
    {
      "cell_type": "code",
      "metadata": {
        "id": "0xC8tUdYHka2"
      },
      "source": [
        "def fgsm_update(image, data_grad, update_max_norm):\n",
        "    \"\"\"\n",
        "    Compute the FGSM update on an image (or a batch of images)\n",
        "\n",
        "    @param image: float32 tensor of shape (batch_size, rgb, height, width)\n",
        "    @param data_grad: float32 tensor of the same shape as `image`. Gradient of the loss with respect to `image`.\n",
        "    @param update_max_norm: float, the maximum permitted difference between `image` and the output of this function measured in L_inf norm.\n",
        "\n",
        "    @returns a perturbed version of `image` with the same shape\n",
        "    \"\"\"\n",
        "    \n",
        "    # ***************************************************\n",
        "    # INSERT YOUR CODE HERE\n",
        "    # TODO\n",
        "    # ***************************************************\n",
        "    \n",
        "    # Collect the element-wise sign of the data gradient\n",
        "    sign = torch.sign(data_grad)\n",
        "    # Create the perturbed image by adjusting each pixel of the input image\n",
        "    perturbed_image = image + update_max_norm * sign\n",
        "    # Adding clipping to maintain [0,1] range\n",
        "    perturbed_image = torch.clip(perturbed_image, 0, 1)\n",
        "\n",
        "    # Return the perturbed image\n",
        "    \n",
        "    \n",
        "    return perturbed_image"
      ],
      "execution_count": 12,
      "outputs": []
    },
    {
      "cell_type": "markdown",
      "metadata": {
        "id": "SuwR9SpqHka4"
      },
      "source": [
        "### Executing the attack\n",
        "\n",
        "__Exercise__ Complete the function below and perturb every digit in the test set such that the original models give as many incorrect predictions as possible. Use the `fgsm_update` function you created before.\n",
        "\n",
        "\n"
      ]
    },
    {
      "cell_type": "code",
      "metadata": {
        "id": "Q91gBNcVHka5"
      },
      "source": [
        "def evaluate_attack(model, criterion, test_loader, update_max_norm):\n",
        "  \"\"\"\n",
        "  @param model: torch.nn.Module\n",
        "  @param criterion: torch.nn.modules.loss._Loss\n",
        "  @param test_loader: torch.util.data.DataLoader\n",
        "  @param update_max_norm: float indicating the maximum L_infinity norm allowed for the perturbations\n",
        "\n",
        "  @return (\n",
        "    accuracy of the model in the perturbed test set,\n",
        "    adversarial example images: list of 5 samples of a tuple (original prediction - float, prediction - float, example image - torch.tensor)\n",
        "  )\n",
        "  \"\"\"\n",
        "  accuracy_per_batch = []\n",
        "  adversarial_examples = []  # a small sample of 5 adversarial images\n",
        "\n",
        "  # Loop over all examples in test set in batches\n",
        "  for data, target in test_loader:\n",
        "    data, target = data.to(device), target.to(device)\n",
        "\n",
        "    # Indicate that we want PyTorch to compute a gradient with respect to the\n",
        "    # input batch.\n",
        "    data.requires_grad = True\n",
        "\n",
        "    # Forward pass\n",
        "    output = model(data)\n",
        "    original_predictions = output.argmax(1) # get the index of the max logit\n",
        "    original_accuracy = accuracy(output, target)\n",
        "    loss = criterion(output, target)\n",
        "\n",
        "    # Zero all existing gradients\n",
        "    model.zero_grad()\n",
        "    loss.backward()\n",
        "\n",
        "    # Perturb the batch with a gradient step (using the `fgsm_update`)\n",
        "    perturbed_data = fgsm_update(data, data.grad, update_max_norm)\n",
        "\n",
        "    # Re-classify the perturbed batch\n",
        "    output = model(perturbed_data)\n",
        "    adversarial_predictions = output.argmax(1)\n",
        "    adversarial_accuracy = accuracy(output, target)\n",
        "\n",
        "    accuracy_per_batch.append(adversarial_accuracy)\n",
        "\n",
        "    # Save some adversarial examples for visualization\n",
        "    if len(adversarial_examples) < 5:\n",
        "      adv_ex = perturbed_data[0, 0, :, :].detach().cpu().numpy()\n",
        "      adversarial_examples.append( (original_predictions[0].item(), adversarial_predictions[0].item(), adv_ex) )\n",
        "\n",
        "  average_accuracy = sum(accuracy_per_batch) / len(accuracy_per_batch)  # assuming all batches are the same size\n",
        "\n",
        "  print(\"Epsilon: {:.2f}\\tTest Accuracy = {:.3f}\".format(update_max_norm, average_accuracy))\n",
        "\n",
        "  return average_accuracy, adversarial_examples"
      ],
      "execution_count": 10,
      "outputs": []
    },
    {
      "cell_type": "markdown",
      "metadata": {
        "id": "VvCW-Na-Hka7"
      },
      "source": [
        "### Accuracy vs perturbation magnitude\n",
        "\n",
        "Let's explore how the maximum allowed perturbation influences the model's test error.\n",
        "\n",
        "__Exercise__ At what maximum allowed perturbation ($\\epsilon$) does the model start to perform worse than random chance for 10-class classification with balanced classes?"
      ]
    },
    {
      "cell_type": "code",
      "metadata": {
        "id": "sBYC7mgEHka7",
        "colab": {
          "base_uri": "https://localhost:8080/",
          "height": 477
        },
        "outputId": "434fbdf8-3e9e-45aa-83dc-77597b229ed2"
      },
      "source": [
        "accuracies_logreg = []\n",
        "examples_logreg = []\n",
        "\n",
        "epsilons_logreg = [0, .05, .1, .15, .2, .25, .3]\n",
        "\n",
        "# Run test for each epsilon\n",
        "for eps in epsilons_logreg:\n",
        "    acc, ex = evaluate_attack(model_logreg, criterion, dataset_test, eps)\n",
        "    accuracies_logreg.append(acc)\n",
        "    examples_logreg.append(ex)\n",
        "\n",
        "plt.figure(figsize=(5,5))\n",
        "plt.plot(epsilons_logreg, accuracies_logreg, \"*-\")\n",
        "plt.yticks(np.arange(0, 1.1, step=0.1))\n",
        "plt.xticks(np.arange(0, .35, step=0.05))\n",
        "plt.title(\"Accuracy vs Epsilon\")\n",
        "plt.xlabel(\"Epsilon\")\n",
        "plt.ylabel(\"Accuracy\")\n",
        "plt.show()"
      ],
      "execution_count": 13,
      "outputs": [
        {
          "output_type": "stream",
          "name": "stdout",
          "text": [
            "Epsilon: 0.00\tTest Accuracy = 0.911\n",
            "Epsilon: 0.05\tTest Accuracy = 0.612\n",
            "Epsilon: 0.10\tTest Accuracy = 0.148\n",
            "Epsilon: 0.15\tTest Accuracy = 0.024\n",
            "Epsilon: 0.20\tTest Accuracy = 0.001\n",
            "Epsilon: 0.25\tTest Accuracy = 0.000\n",
            "Epsilon: 0.30\tTest Accuracy = 0.000\n"
          ]
        },
        {
          "output_type": "display_data",
          "data": {
            "image/png": "[encoded data removed]",
            "text/plain": [
              "<Figure size 360x360 with 1 Axes>"
            ]
          },
          "metadata": {
            "needs_background": "light"
          }
        }
      ]
    },
    {
      "cell_type": "markdown",
      "metadata": {
        "id": "ibgZ1snR43nr"
      },
      "source": [
        "### Image quality\n",
        "\n",
        "The code below explores the visual relationship between perturbation and image quality. \n",
        "\n",
        "__Exercise__ How many perturbed images would you get right yourself?"
      ]
    },
    {
      "cell_type": "code",
      "metadata": {
        "id": "CyewFQpc333n",
        "colab": {
          "base_uri": "https://localhost:8080/",
          "height": 729
        },
        "outputId": "9f87a2d1-a5a7-4b86-8101-13366fa4fc5b"
      },
      "source": [
        "# Plot several examples of adversarial samples at each epsilon\n",
        "counter = 0\n",
        "plt.figure(figsize=(8,10))\n",
        "for epsilon, examples in zip(epsilons_logreg, examples_logreg):\n",
        "    for column_number, example in enumerate(examples):\n",
        "        counter += 1\n",
        "        original_prediction, adversarial_prediction, img = example\n",
        "        img = img.squeeze()\n",
        "\n",
        "        plt.subplot(len(epsilons_logreg), len(examples), counter)\n",
        "\n",
        "        plt.title(\"{} -> {}\".format(original_prediction, adversarial_prediction))\n",
        "        plt.imshow(img, cmap=\"gray\")\n",
        "\n",
        "        # Clear the axes\n",
        "        plt.xticks([], [])\n",
        "        plt.yticks([], [])\n",
        "\n",
        "        # Print y-labels in the first column\n",
        "        if column_number == 0:\n",
        "            plt.ylabel(\"Eps: {:.2f}\".format(epsilon), fontsize=14)\n",
        "\n",
        "plt.tight_layout()\n",
        "plt.show()"
      ],
      "execution_count": 14,
      "outputs": [
        {
          "output_type": "display_data",
          "data": {
            "image/png": "[encoded data removed]",
            "text/plain": [
              "<Figure size 576x720 with 35 Axes>"
            ]
          },
          "metadata": {}
        }
      ]
    },
    {
      "cell_type": "markdown",
      "metadata": {
        "id": "nG5RTfNr4KwA"
      },
      "source": [
        "### Logistic regression vs a ConvNet\n",
        "Now, let's run the same attack on the convolutional neural network you trained before. \n",
        "\n",
        "__Exercise__ Find out which model is more robust to this type of adversarial perturbations. Does the result match your expectations? Can you intuitively explain the result? Do the adversarial examples look similar?"
      ]
    },
    {
      "cell_type": "code",
      "metadata": {
        "id": "mDnQJIdT5nCA",
        "colab": {
          "base_uri": "https://localhost:8080/"
        },
        "outputId": "9e1e7435-96a9-4018-eb04-154b1d3fb0be"
      },
      "source": [
        "accuracies_lenet = []\n",
        "examples_lenet = []\n",
        "\n",
        "epsilons_lenet = [0, .05, .1, .15, .2, .25, .3]\n",
        "\n",
        "# Run test for each epsilon\n",
        "for eps in epsilons_lenet:\n",
        "    acc, ex = evaluate_attack(model_lenet, criterion, dataset_test, eps)\n",
        "    accuracies_lenet.append(acc)\n",
        "    examples_lenet.append(ex)"
      ],
      "execution_count": 15,
      "outputs": [
        {
          "output_type": "stream",
          "name": "stdout",
          "text": [
            "Epsilon: 0.00\tTest Accuracy = 0.982\n",
            "Epsilon: 0.05\tTest Accuracy = 0.924\n",
            "Epsilon: 0.10\tTest Accuracy = 0.768\n",
            "Epsilon: 0.15\tTest Accuracy = 0.461\n",
            "Epsilon: 0.20\tTest Accuracy = 0.187\n",
            "Epsilon: 0.25\tTest Accuracy = 0.079\n",
            "Epsilon: 0.30\tTest Accuracy = 0.030\n"
          ]
        }
      ]
    },
    {
      "cell_type": "code",
      "metadata": {
        "id": "wq2fdeeh6bao",
        "colab": {
          "base_uri": "https://localhost:8080/",
          "height": 350
        },
        "outputId": "237fbecd-b6b8-49ae-ecce-5f9e69f58a15"
      },
      "source": [
        "# Comparing the models\n",
        "plt.figure(figsize=(5,5))\n",
        "plt.plot(epsilons_logreg, accuracies_logreg, \"*-\", c='red', label='Logistic regression')\n",
        "plt.plot(epsilons_lenet, accuracies_lenet, \"*-\", c='blue', label='Convolutional network')\n",
        "\n",
        "plt.yticks(np.arange(0, 1.1, step=0.1))\n",
        "plt.xticks(np.arange(0, .35, step=0.05))\n",
        "\n",
        "plt.title(\"Accuracy vs Epsilon\")\n",
        "plt.xlabel(\"Epsilon\")\n",
        "plt.ylabel(\"Accuracy\")\n",
        "plt.legend();"
      ],
      "execution_count": 16,
      "outputs": [
        {
          "output_type": "display_data",
          "data": {
            "image/png": "[encoded data removed]",
            "text/plain": [
              "<Figure size 360x360 with 1 Axes>"
            ]
          },
          "metadata": {
            "needs_background": "light"
          }
        }
      ]
    },
    {
      "cell_type": "markdown",
      "metadata": {
        "id": "ZAoJXiXrziCO"
      },
      "source": [
        "## 3. Training a neural network model robust to FGSM\n",
        "\n",
        "[Goodfellow et al.](https://arxiv.org/pdf/1412.6572.pdf) present an adversarial training algorithm using the Fast Gradient Sign Method to solve the inner maximization problem. The idea of FGSM training is simple: while training, adapt the training data to be a worst-case adversarial example by using the method developed before (details can be found in Section 5 of the [paper](https://arxiv.org/pdf/1412.6572.pdf)).\n",
        "\n",
        "Training models that are robust against *any* adversarial input inside of some fixed $L_\\infty$-ball can be sometimes tricky, and FGSM training is not always sufficient. Sometimes FGSM training leads to models which are robust only to FGSM, but not to other attacks. In case you are interested, see [this recent paper](https://arxiv.org/pdf/2007.02617.pdf) that discusses this issue in detail. More generally, accurate evaluation of adversarial robustness of neural networks is a complicated topic and many papers have been written on this (a good summary can be found [here](https://arxiv.org/abs/1902.06705)), and we won't go into more detail here, and we'll assume that FGSM attack is a good proxy for measuring the robustness of our model.\n",
        "\n",
        "\n",
        "__Exercise__: Complete the code for FGSM adversarial training below. Use your `fgsm_update` function using perturbations which have $L_\\infty$ distance of 0.25 to the original training images."
      ]
    },
    {
      "cell_type": "code",
      "metadata": {
        "id": "rJge1R3n2vKw",
        "colab": {
          "base_uri": "https://localhost:8080/"
        },
        "outputId": "fb90f5df-ba70-490a-c6c9-451f77697605"
      },
      "source": [
        "robust_neural_net_model = LeNetModel().to(device)\n",
        "\n",
        "num_epochs = 10\n",
        "optimizer = torch.optim.Adam(robust_neural_net_model.parameters(), lr=1e-3)\n",
        "for epoch in range(num_epochs):\n",
        "\n",
        "    # Train an epoch\n",
        "    robust_neural_net_model.train()\n",
        "    for batch_x, batch_y in dataset_train:\n",
        "        batch_x, batch_y = batch_x.to(device), batch_y.to(device)\n",
        "\n",
        "        # Forward pass for adversarial perturbations\n",
        "        batch_x.requires_grad = True\n",
        "        output = robust_neural_net_model(batch_x)\n",
        "        original_predictions = output.argmax(1) # get the index of the max logit\n",
        "        original_accuracy = accuracy(output, batch_y)\n",
        "        loss = criterion(output, batch_y)\n",
        "        robust_neural_net_model.zero_grad()\n",
        "        loss.backward()\n",
        "\n",
        "        # Generate adversarial examples for training using fgsm_update()\n",
        "        perturbed_data = fgsm_update(batch_x, batch_x.grad, 0.25)\n",
        "        \n",
        "        # Evaluate the network on perturbed data (forward pass)\n",
        "        prediction = robust_neural_net_model(perturbed_data)\n",
        "        loss = criterion(prediction, batch_y)\n",
        "        \n",
        "        # Compute the gradient with respect to the parameters\n",
        "        optimizer.zero_grad()\n",
        "        loss.backward()\n",
        "\n",
        "        # Update the parameters of the model with a gradient step\n",
        "        optimizer.step()\n",
        "\n",
        "    # Test the quality on the test set\n",
        "    robust_neural_net_model.eval()\n",
        "    accuracies = []\n",
        "    for batch_x, batch_y in dataset_test:\n",
        "        batch_x, batch_y = batch_x.to(device), batch_y.to(device)\n",
        "\n",
        "        # Evaluate the network (forward pass)\n",
        "        prediction = robust_neural_net_model(batch_x)\n",
        "        accuracies.append(accuracy(prediction, batch_y))\n",
        "      \n",
        "    print(\"Epoch {:.2f} | Test accuracy: {:.5f}\".format(epoch, sum(accuracies).item()/len(accuracies)))\n",
        "\n",
        "\n",
        "  # training takes around two minutes\n",
        "  # you should expect an accuracy around 96%"
      ],
      "execution_count": 17,
      "outputs": [
        {
          "output_type": "stream",
          "name": "stdout",
          "text": [
            "Epoch 0.00 | Test accuracy: 0.79840\n",
            "Epoch 1.00 | Test accuracy: 0.89410\n",
            "Epoch 2.00 | Test accuracy: 0.91950\n",
            "Epoch 3.00 | Test accuracy: 0.94150\n",
            "Epoch 4.00 | Test accuracy: 0.95110\n",
            "Epoch 5.00 | Test accuracy: 0.95040\n",
            "Epoch 6.00 | Test accuracy: 0.95580\n",
            "Epoch 7.00 | Test accuracy: 0.95760\n",
            "Epoch 8.00 | Test accuracy: 0.95960\n",
            "Epoch 9.00 | Test accuracy: 0.95630\n"
          ]
        }
      ]
    },
    {
      "cell_type": "code",
      "metadata": {
        "id": "C119HVTIzScI",
        "colab": {
          "base_uri": "https://localhost:8080/",
          "height": 477
        },
        "outputId": "32b96d7d-57ba-4f01-8698-fe4aedf3d00f"
      },
      "source": [
        "accuracies_lenet_robust = []\n",
        "examples_lenet_robust = []\n",
        "\n",
        "epsilons_lenet_robust = [0, .05, .1, .15, .2, .25, .3]\n",
        "\n",
        "# Run test for each epsilon\n",
        "for eps in epsilons_lenet_robust:\n",
        "    acc, ex = evaluate_attack(robust_neural_net_model, criterion, dataset_test, eps)\n",
        "    accuracies_lenet_robust.append(acc)\n",
        "    examples_lenet_robust.append(ex)\n",
        "\n",
        "# Comparing the models\n",
        "plt.figure(figsize=(5,5))\n",
        "plt.plot(epsilons_logreg, accuracies_logreg, \"*-\", c='red', label='Logistic regression')\n",
        "plt.plot(epsilons_lenet, accuracies_lenet, \"*-\", c='blue', label='Convolutional network')\n",
        "plt.plot(epsilons_lenet_robust, accuracies_lenet_robust, \"*-\", c='orange', label='Convolutional network (robust)')\n",
        "\n",
        "plt.yticks(np.arange(0, 1.1, step=0.1))\n",
        "plt.xticks(np.arange(0, .35, step=0.05))\n",
        "\n",
        "plt.title(\"Accuracy vs Epsilon\")\n",
        "plt.xlabel(\"Epsilon\")\n",
        "plt.ylabel(\"Accuracy\")\n",
        "plt.legend();"
      ],
      "execution_count": 18,
      "outputs": [
        {
          "output_type": "stream",
          "name": "stdout",
          "text": [
            "Epsilon: 0.00\tTest Accuracy = 0.956\n",
            "Epsilon: 0.05\tTest Accuracy = 0.926\n",
            "Epsilon: 0.10\tTest Accuracy = 0.893\n",
            "Epsilon: 0.15\tTest Accuracy = 0.855\n",
            "Epsilon: 0.20\tTest Accuracy = 0.817\n",
            "Epsilon: 0.25\tTest Accuracy = 0.776\n",
            "Epsilon: 0.30\tTest Accuracy = 0.719\n"
          ]
        },
        {
          "output_type": "display_data",
          "data": {
            "image/png": "[encoded data removed]",
            "text/plain": [
              "<Figure size 360x360 with 1 Axes>"
            ]
          },
          "metadata": {
            "needs_background": "light"
          }
        }
      ]
    },
    {
      "cell_type": "markdown",
      "metadata": {
        "id": "oYy5aeo37Hw8"
      },
      "source": [
        "__Discussion__ Does adversarial training help to improve robustness against FGSM perturbations? Is there a trade-off between robustness and standard accuracy? Can you tune it to perform even better than with our default supplied parameters? How do you think the same defense would perform on the linear classification model (see Problem 2 in the current exercise sheet)?"
      ]
    }
  ]
}